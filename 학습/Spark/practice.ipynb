{
 "cells": [
  {
   "cell_type": "code",
   "execution_count": 1,
   "id": "0e4ae50c",
   "metadata": {},
   "outputs": [
    {
     "name": "stdout",
     "output_type": "stream",
     "text": [
      "Requirement already satisfied: findspark in c:\\users\\user\\anaconda3\\lib\\site-packages (1.4.2)\n"
     ]
    },
    {
     "name": "stderr",
     "output_type": "stream",
     "text": [
      "WARNING: You are using pip version 21.2.4; however, version 21.3.1 is available.\n",
      "You should consider upgrading via the 'c:\\users\\user\\anaconda3\\python.exe -m pip install --upgrade pip' command.\n"
     ]
    },
    {
     "name": "stdout",
     "output_type": "stream",
     "text": [
      "Requirement already satisfied: pyspark in c:\\users\\user\\anaconda3\\lib\\site-packages (3.1.2)\n",
      "Requirement already satisfied: py4j==0.10.9 in c:\\users\\user\\anaconda3\\lib\\site-packages (from pyspark) (0.10.9)\n"
     ]
    },
    {
     "name": "stderr",
     "output_type": "stream",
     "text": [
      "WARNING: You are using pip version 21.2.4; however, version 21.3.1 is available.\n",
      "You should consider upgrading via the 'c:\\users\\user\\anaconda3\\python.exe -m pip install --upgrade pip' command.\n"
     ]
    }
   ],
   "source": [
    "!pip install findspark\n",
    "!pip install pyspark"
   ]
  },
  {
   "cell_type": "code",
   "execution_count": 2,
   "id": "fc9547d3",
   "metadata": {},
   "outputs": [],
   "source": [
    "import findspark\n",
    "findspark.init()"
   ]
  },
  {
   "cell_type": "code",
   "execution_count": 3,
   "id": "2547a27b",
   "metadata": {},
   "outputs": [],
   "source": [
    "from pyspark import SparkContext\n",
    "from pyspark import SparkConf"
   ]
  },
  {
   "cell_type": "code",
   "execution_count": 4,
   "id": "a5150916",
   "metadata": {},
   "outputs": [],
   "source": [
    "from pyspark.sql import SparkSession\n",
    "\n",
    "spark = SparkSession.builder.appName('Dataframe').getOrCreate()"
   ]
  },
  {
   "cell_type": "code",
   "execution_count": 5,
   "id": "30b7fa6b",
   "metadata": {},
   "outputs": [
    {
     "data": {
      "text/html": [
       "\n",
       "            <div>\n",
       "                <p><b>SparkSession - in-memory</b></p>\n",
       "                \n",
       "        <div>\n",
       "            <p><b>SparkContext</b></p>\n",
       "\n",
       "            <p><a href=\"http://192.168.219.104:4040\">Spark UI</a></p>\n",
       "\n",
       "            <dl>\n",
       "              <dt>Version</dt>\n",
       "                <dd><code>v3.1.2</code></dd>\n",
       "              <dt>Master</dt>\n",
       "                <dd><code>local[*]</code></dd>\n",
       "              <dt>AppName</dt>\n",
       "                <dd><code>Dataframe</code></dd>\n",
       "            </dl>\n",
       "        </div>\n",
       "        \n",
       "            </div>\n",
       "        "
      ],
      "text/plain": [
       "<pyspark.sql.session.SparkSession at 0x1e67f695b50>"
      ]
     },
     "execution_count": 5,
     "metadata": {},
     "output_type": "execute_result"
    }
   ],
   "source": [
    "spark"
   ]
  },
  {
   "cell_type": "code",
   "execution_count": 6,
   "id": "50c358e3",
   "metadata": {
    "scrolled": true
   },
   "outputs": [
    {
     "name": "stdout",
     "output_type": "stream",
     "text": [
      "+---------+-----------+---------------+----------+--------+-----------+-----+---------+--------------------+--------------+----------+\n",
      "|loan_amnt|funded_amnt|funded_amnt_inv|      term|int_rate|installment|grade|sub_grade|           emp_title|home_ownership|annual_inc|\n",
      "+---------+-----------+---------------+----------+--------+-----------+-----+---------+--------------------+--------------+----------+\n",
      "|     2500|       2500|         2500.0| 36 months|   13.56|      84.92|    C|       C1|                Chef|          RENT|   55000.0|\n",
      "|    30000|      30000|        30000.0| 60 months|   18.94|     777.23|    D|       D2|         Postmaster |      MORTGAGE|   90000.0|\n",
      "|     5000|       5000|         5000.0| 36 months|   17.97|     180.69|    D|       D1|      Administrative|      MORTGAGE|   59280.0|\n",
      "|     4000|       4000|         4000.0| 36 months|   18.94|     146.51|    D|       D2|       IT Supervisor|      MORTGAGE|   92000.0|\n",
      "|    30000|      30000|        30000.0| 60 months|   16.14|     731.78|    C|       C4|            Mechanic|      MORTGAGE|   57250.0|\n",
      "|     5550|       5550|         5550.0| 36 months|   15.02|     192.45|    C|       C3|        Director COE|      MORTGAGE|  152500.0|\n",
      "|     2000|       2000|         2000.0| 36 months|   17.97|      72.28|    D|       D1|     Account Manager|          RENT|   51000.0|\n",
      "|     6000|       6000|         6000.0| 36 months|   13.56|     203.79|    C|       C1|  Assistant Director|          RENT|   65000.0|\n",
      "|     5000|       5000|         5000.0| 36 months|   17.97|     180.69|    D|       D1| Legal Assistant III|      MORTGAGE|   53580.0|\n",
      "|     6000|       6000|         6000.0| 36 months|   14.47|     206.44|    C|       C2|                null|           OWN|  300000.0|\n",
      "|     5500|       5500|         5500.0| 36 months|   22.35|     211.05|    D|       D5|                null|      MORTGAGE|   50000.0|\n",
      "|    28000|      28000|        28000.0| 60 months|   11.31|     613.13|    B|       B3|          Consultant|      MORTGAGE|   70000.0|\n",
      "|    11200|      11200|        11200.0| 36 months|    8.19|     351.95|    A|       A4|Job Coach Supervisor|      MORTGAGE|   65000.0|\n",
      "|     6500|       6500|         6500.0| 36 months|   17.97|      234.9|    D|       D1|Quality Field Eng...|      MORTGAGE|  154000.0|\n",
      "|    22000|      22000|        22000.0| 60 months|   12.98|     500.35|    B|       B5|             Teller |      MORTGAGE|   65000.0|\n",
      "|     3500|       3500|         3500.0| 36 months|   16.14|      123.3|    C|       C4|respritory therapist|      MORTGAGE|   80000.0|\n",
      "|     7000|       7000|         7000.0| 36 months|   12.98|      235.8|    B|       B5|    Worship Director|      MORTGAGE|  102500.0|\n",
      "|    25000|      25000|        25000.0| 60 months|   16.91|     620.11|    C|       C5|          Processor |      MORTGAGE|   23878.0|\n",
      "|    16000|      16000|        16000.0| 60 months|   20.89|     431.87|    D|       D4|Neonatal Nurse Pr...|      MORTGAGE|  120000.0|\n",
      "|    13000|      13000|        13000.0| 60 months|   14.47|     305.67|    C|       C2| Stationary Engineer|      MORTGAGE|   75000.0|\n",
      "+---------+-----------+---------------+----------+--------+-----------+-----+---------+--------------------+--------------+----------+\n",
      "only showing top 20 rows\n",
      "\n"
     ]
    }
   ],
   "source": [
    "## read the dataset\n",
    "df_pyspark = spark.read.csv('./sample_dataset.csv', header=True, inferSchema=True)\n",
    "df_pyspark.show()"
   ]
  },
  {
   "cell_type": "code",
   "execution_count": 7,
   "id": "2c9bd738",
   "metadata": {},
   "outputs": [
    {
     "name": "stdout",
     "output_type": "stream",
     "text": [
      "+-------+------------------+----------+------------------+------+\n",
      "|summary|       funded_amnt|      term|          int_rate| grade|\n",
      "+-------+------------------+----------+------------------+------+\n",
      "|  count|            199999|    199999|            199999|199999|\n",
      "|   mean|16039.883574417872|      null|12.914750623752234|  null|\n",
      "| stddev|10125.835675059183|      null| 5.181549857935966|  null|\n",
      "|    min|              1000| 36 months|               6.0|     A|\n",
      "|    max|             40000| 60 months|             30.99|     G|\n",
      "+-------+------------------+----------+------------------+------+\n",
      "\n"
     ]
    }
   ],
   "source": [
    "df_pyspark.describe(['funded_amnt', 'term','int_rate','grade']).show()"
   ]
  },
  {
   "cell_type": "code",
   "execution_count": 8,
   "id": "1032c135",
   "metadata": {},
   "outputs": [
    {
     "name": "stdout",
     "output_type": "stream",
     "text": [
      "root\n",
      " |-- loan_amnt: integer (nullable = true)\n",
      " |-- funded_amnt: integer (nullable = true)\n",
      " |-- funded_amnt_inv: double (nullable = true)\n",
      " |-- term: string (nullable = true)\n",
      " |-- int_rate: double (nullable = true)\n",
      " |-- installment: double (nullable = true)\n",
      " |-- grade: string (nullable = true)\n",
      " |-- sub_grade: string (nullable = true)\n",
      " |-- emp_title: string (nullable = true)\n",
      " |-- home_ownership: string (nullable = true)\n",
      " |-- annual_inc: double (nullable = true)\n",
      "\n"
     ]
    }
   ],
   "source": [
    "## Check the schema\n",
    "df_pyspark.printSchema()"
   ]
  },
  {
   "cell_type": "code",
   "execution_count": 9,
   "id": "711eb64c",
   "metadata": {},
   "outputs": [
    {
     "data": {
      "text/plain": [
       "pyspark.sql.dataframe.DataFrame"
      ]
     },
     "execution_count": 9,
     "metadata": {},
     "output_type": "execute_result"
    }
   ],
   "source": [
    "type(df_pyspark)"
   ]
  },
  {
   "cell_type": "code",
   "execution_count": 10,
   "id": "9a4eeecd",
   "metadata": {},
   "outputs": [
    {
     "name": "stdout",
     "output_type": "stream",
     "text": [
      "+---------+-----------+---------------+----------+--------+-----------+-----+---------+-------------------+--------------+----------+\n",
      "|loan_amnt|funded_amnt|funded_amnt_inv|      term|int_rate|installment|grade|sub_grade|          emp_title|home_ownership|annual_inc|\n",
      "+---------+-----------+---------------+----------+--------+-----------+-----+---------+-------------------+--------------+----------+\n",
      "|     2500|       2500|         2500.0| 36 months|   13.56|      84.92|    C|       C1|               Chef|          RENT|   55000.0|\n",
      "|    30000|      30000|        30000.0| 60 months|   18.94|     777.23|    D|       D2|        Postmaster |      MORTGAGE|   90000.0|\n",
      "|     5000|       5000|         5000.0| 36 months|   17.97|     180.69|    D|       D1|     Administrative|      MORTGAGE|   59280.0|\n",
      "|     4000|       4000|         4000.0| 36 months|   18.94|     146.51|    D|       D2|      IT Supervisor|      MORTGAGE|   92000.0|\n",
      "|    30000|      30000|        30000.0| 60 months|   16.14|     731.78|    C|       C4|           Mechanic|      MORTGAGE|   57250.0|\n",
      "|     5550|       5550|         5550.0| 36 months|   15.02|     192.45|    C|       C3|       Director COE|      MORTGAGE|  152500.0|\n",
      "|     2000|       2000|         2000.0| 36 months|   17.97|      72.28|    D|       D1|    Account Manager|          RENT|   51000.0|\n",
      "|     6000|       6000|         6000.0| 36 months|   13.56|     203.79|    C|       C1| Assistant Director|          RENT|   65000.0|\n",
      "|     5000|       5000|         5000.0| 36 months|   17.97|     180.69|    D|       D1|Legal Assistant III|      MORTGAGE|   53580.0|\n",
      "|     6000|       6000|         6000.0| 36 months|   14.47|     206.44|    C|       C2|               null|           OWN|  300000.0|\n",
      "+---------+-----------+---------------+----------+--------+-----------+-----+---------+-------------------+--------------+----------+\n",
      "only showing top 10 rows\n",
      "\n"
     ]
    }
   ],
   "source": [
    "df_pyspark.show(10)"
   ]
  },
  {
   "cell_type": "code",
   "execution_count": 11,
   "id": "dc6349df",
   "metadata": {
    "scrolled": false
   },
   "outputs": [
    {
     "name": "stdout",
     "output_type": "stream",
     "text": [
      "+---------+\n",
      "|loan_amnt|\n",
      "+---------+\n",
      "|     2500|\n",
      "|    30000|\n",
      "|     5000|\n",
      "|     4000|\n",
      "|    30000|\n",
      "|     5550|\n",
      "|     2000|\n",
      "|     6000|\n",
      "|     5000|\n",
      "|     6000|\n",
      "|     5500|\n",
      "|    28000|\n",
      "|    11200|\n",
      "|     6500|\n",
      "|    22000|\n",
      "|     3500|\n",
      "|     7000|\n",
      "|    25000|\n",
      "|    16000|\n",
      "|    13000|\n",
      "+---------+\n",
      "only showing top 20 rows\n",
      "\n"
     ]
    }
   ],
   "source": [
    "df_pyspark.select('loan_amnt').show()"
   ]
  },
  {
   "cell_type": "code",
   "execution_count": 12,
   "id": "0d604af6",
   "metadata": {},
   "outputs": [
    {
     "data": {
      "text/plain": [
       "pyspark.sql.dataframe.DataFrame"
      ]
     },
     "execution_count": 12,
     "metadata": {},
     "output_type": "execute_result"
    }
   ],
   "source": [
    "type(df_pyspark.select('loan_amnt'))"
   ]
  },
  {
   "cell_type": "code",
   "execution_count": 13,
   "id": "4d69a239",
   "metadata": {},
   "outputs": [
    {
     "name": "stdout",
     "output_type": "stream",
     "text": [
      "+---------+-----------+\n",
      "|loan_amnt|funded_amnt|\n",
      "+---------+-----------+\n",
      "|     2500|       2500|\n",
      "|    30000|      30000|\n",
      "|     5000|       5000|\n",
      "|     4000|       4000|\n",
      "|    30000|      30000|\n",
      "|     5550|       5550|\n",
      "|     2000|       2000|\n",
      "|     6000|       6000|\n",
      "|     5000|       5000|\n",
      "|     6000|       6000|\n",
      "|     5500|       5500|\n",
      "|    28000|      28000|\n",
      "|    11200|      11200|\n",
      "|     6500|       6500|\n",
      "|    22000|      22000|\n",
      "|     3500|       3500|\n",
      "|     7000|       7000|\n",
      "|    25000|      25000|\n",
      "|    16000|      16000|\n",
      "|    13000|      13000|\n",
      "+---------+-----------+\n",
      "only showing top 20 rows\n",
      "\n"
     ]
    }
   ],
   "source": [
    "df_pyspark.select(['loan_amnt', 'funded_amnt']).show()"
   ]
  },
  {
   "cell_type": "code",
   "execution_count": 14,
   "id": "e78599cd",
   "metadata": {},
   "outputs": [
    {
     "data": {
      "text/plain": [
       "Column<'loan_amnt'>"
      ]
     },
     "execution_count": 14,
     "metadata": {},
     "output_type": "execute_result"
    }
   ],
   "source": [
    "df_pyspark['loan_amnt']"
   ]
  },
  {
   "cell_type": "code",
   "execution_count": 15,
   "id": "c98de014",
   "metadata": {},
   "outputs": [
    {
     "data": {
      "text/plain": [
       "[('loan_amnt', 'int'),\n",
       " ('funded_amnt', 'int'),\n",
       " ('funded_amnt_inv', 'double'),\n",
       " ('term', 'string'),\n",
       " ('int_rate', 'double'),\n",
       " ('installment', 'double'),\n",
       " ('grade', 'string'),\n",
       " ('sub_grade', 'string'),\n",
       " ('emp_title', 'string'),\n",
       " ('home_ownership', 'string'),\n",
       " ('annual_inc', 'double')]"
      ]
     },
     "execution_count": 15,
     "metadata": {},
     "output_type": "execute_result"
    }
   ],
   "source": [
    "df_pyspark.dtypes"
   ]
  },
  {
   "cell_type": "code",
   "execution_count": 16,
   "id": "8c03e64f",
   "metadata": {},
   "outputs": [
    {
     "data": {
      "text/plain": [
       "DataFrame[summary: string, loan_amnt: string, funded_amnt: string, funded_amnt_inv: string, term: string, int_rate: string, installment: string, grade: string, sub_grade: string, emp_title: string, home_ownership: string, annual_inc: string]"
      ]
     },
     "execution_count": 16,
     "metadata": {},
     "output_type": "execute_result"
    }
   ],
   "source": [
    "df_pyspark.describe()"
   ]
  },
  {
   "cell_type": "code",
   "execution_count": 17,
   "id": "8e4e8657",
   "metadata": {
    "scrolled": true
   },
   "outputs": [
    {
     "data": {
      "text/plain": [
       "DataFrame[loan_amnt: int, funded_amnt: int, funded_amnt_inv: double, term: string, int_rate: double, installment: double, grade: string, sub_grade: string, emp_title: string, home_ownership: string, annual_inc: double, Experience After 2 year: int]"
      ]
     },
     "execution_count": 17,
     "metadata": {},
     "output_type": "execute_result"
    }
   ],
   "source": [
    "### Adding Columns in data\n",
    "df_pyspark.withColumn('Experience After 2 year', df_pyspark['loan_amnt']+1)"
   ]
  },
  {
   "cell_type": "code",
   "execution_count": 18,
   "id": "dc816cd8",
   "metadata": {},
   "outputs": [
    {
     "name": "stdout",
     "output_type": "stream",
     "text": [
      "+---------+-----------+---------------+----------+--------+-----------+-----+---------+--------------------+--------------+----------+\n",
      "|loan_amnt|funded_amnt|funded_amnt_inv|      term|int_rate|installment|grade|sub_grade|           emp_title|home_ownership|annual_inc|\n",
      "+---------+-----------+---------------+----------+--------+-----------+-----+---------+--------------------+--------------+----------+\n",
      "|     2500|       2500|         2500.0| 36 months|   13.56|      84.92|    C|       C1|                Chef|          RENT|   55000.0|\n",
      "|    30000|      30000|        30000.0| 60 months|   18.94|     777.23|    D|       D2|         Postmaster |      MORTGAGE|   90000.0|\n",
      "|     5000|       5000|         5000.0| 36 months|   17.97|     180.69|    D|       D1|      Administrative|      MORTGAGE|   59280.0|\n",
      "|     4000|       4000|         4000.0| 36 months|   18.94|     146.51|    D|       D2|       IT Supervisor|      MORTGAGE|   92000.0|\n",
      "|    30000|      30000|        30000.0| 60 months|   16.14|     731.78|    C|       C4|            Mechanic|      MORTGAGE|   57250.0|\n",
      "|     5550|       5550|         5550.0| 36 months|   15.02|     192.45|    C|       C3|        Director COE|      MORTGAGE|  152500.0|\n",
      "|     2000|       2000|         2000.0| 36 months|   17.97|      72.28|    D|       D1|     Account Manager|          RENT|   51000.0|\n",
      "|     6000|       6000|         6000.0| 36 months|   13.56|     203.79|    C|       C1|  Assistant Director|          RENT|   65000.0|\n",
      "|     5000|       5000|         5000.0| 36 months|   17.97|     180.69|    D|       D1| Legal Assistant III|      MORTGAGE|   53580.0|\n",
      "|     6000|       6000|         6000.0| 36 months|   14.47|     206.44|    C|       C2|                null|           OWN|  300000.0|\n",
      "|     5500|       5500|         5500.0| 36 months|   22.35|     211.05|    D|       D5|                null|      MORTGAGE|   50000.0|\n",
      "|    28000|      28000|        28000.0| 60 months|   11.31|     613.13|    B|       B3|          Consultant|      MORTGAGE|   70000.0|\n",
      "|    11200|      11200|        11200.0| 36 months|    8.19|     351.95|    A|       A4|Job Coach Supervisor|      MORTGAGE|   65000.0|\n",
      "|     6500|       6500|         6500.0| 36 months|   17.97|      234.9|    D|       D1|Quality Field Eng...|      MORTGAGE|  154000.0|\n",
      "|    22000|      22000|        22000.0| 60 months|   12.98|     500.35|    B|       B5|             Teller |      MORTGAGE|   65000.0|\n",
      "|     3500|       3500|         3500.0| 36 months|   16.14|      123.3|    C|       C4|respritory therapist|      MORTGAGE|   80000.0|\n",
      "|     7000|       7000|         7000.0| 36 months|   12.98|      235.8|    B|       B5|    Worship Director|      MORTGAGE|  102500.0|\n",
      "|    25000|      25000|        25000.0| 60 months|   16.91|     620.11|    C|       C5|          Processor |      MORTGAGE|   23878.0|\n",
      "|    16000|      16000|        16000.0| 60 months|   20.89|     431.87|    D|       D4|Neonatal Nurse Pr...|      MORTGAGE|  120000.0|\n",
      "|    13000|      13000|        13000.0| 60 months|   14.47|     305.67|    C|       C2| Stationary Engineer|      MORTGAGE|   75000.0|\n",
      "+---------+-----------+---------------+----------+--------+-----------+-----+---------+--------------------+--------------+----------+\n",
      "only showing top 20 rows\n",
      "\n"
     ]
    }
   ],
   "source": [
    "### Rename the columns\n",
    "df_pyspark.withColumnRenamed('id', 'New ID').show()"
   ]
  },
  {
   "cell_type": "code",
   "execution_count": 19,
   "id": "de198fa2",
   "metadata": {},
   "outputs": [
    {
     "name": "stdout",
     "output_type": "stream",
     "text": [
      "+---------+-----------+---------------+----------+--------+-----------+-----+---------+--------------------+--------------+----------+\n",
      "|loan_amnt|funded_amnt|funded_amnt_inv|      term|int_rate|installment|grade|sub_grade|           emp_title|home_ownership|annual_inc|\n",
      "+---------+-----------+---------------+----------+--------+-----------+-----+---------+--------------------+--------------+----------+\n",
      "|     2500|       2500|         2500.0| 36 months|   13.56|      84.92|    C|       C1|                Chef|          RENT|   55000.0|\n",
      "|    30000|      30000|        30000.0| 60 months|   18.94|     777.23|    D|       D2|         Postmaster |      MORTGAGE|   90000.0|\n",
      "|     5000|       5000|         5000.0| 36 months|   17.97|     180.69|    D|       D1|      Administrative|      MORTGAGE|   59280.0|\n",
      "|     4000|       4000|         4000.0| 36 months|   18.94|     146.51|    D|       D2|       IT Supervisor|      MORTGAGE|   92000.0|\n",
      "|    30000|      30000|        30000.0| 60 months|   16.14|     731.78|    C|       C4|            Mechanic|      MORTGAGE|   57250.0|\n",
      "|     5550|       5550|         5550.0| 36 months|   15.02|     192.45|    C|       C3|        Director COE|      MORTGAGE|  152500.0|\n",
      "|     2000|       2000|         2000.0| 36 months|   17.97|      72.28|    D|       D1|     Account Manager|          RENT|   51000.0|\n",
      "|     6000|       6000|         6000.0| 36 months|   13.56|     203.79|    C|       C1|  Assistant Director|          RENT|   65000.0|\n",
      "|     5000|       5000|         5000.0| 36 months|   17.97|     180.69|    D|       D1| Legal Assistant III|      MORTGAGE|   53580.0|\n",
      "|     6000|       6000|         6000.0| 36 months|   14.47|     206.44|    C|       C2|                null|           OWN|  300000.0|\n",
      "|     5500|       5500|         5500.0| 36 months|   22.35|     211.05|    D|       D5|                null|      MORTGAGE|   50000.0|\n",
      "|    28000|      28000|        28000.0| 60 months|   11.31|     613.13|    B|       B3|          Consultant|      MORTGAGE|   70000.0|\n",
      "|    11200|      11200|        11200.0| 36 months|    8.19|     351.95|    A|       A4|Job Coach Supervisor|      MORTGAGE|   65000.0|\n",
      "|     6500|       6500|         6500.0| 36 months|   17.97|      234.9|    D|       D1|Quality Field Eng...|      MORTGAGE|  154000.0|\n",
      "|    22000|      22000|        22000.0| 60 months|   12.98|     500.35|    B|       B5|             Teller |      MORTGAGE|   65000.0|\n",
      "|     3500|       3500|         3500.0| 36 months|   16.14|      123.3|    C|       C4|respritory therapist|      MORTGAGE|   80000.0|\n",
      "|     7000|       7000|         7000.0| 36 months|   12.98|      235.8|    B|       B5|    Worship Director|      MORTGAGE|  102500.0|\n",
      "|    25000|      25000|        25000.0| 60 months|   16.91|     620.11|    C|       C5|          Processor |      MORTGAGE|   23878.0|\n",
      "|    16000|      16000|        16000.0| 60 months|   20.89|     431.87|    D|       D4|Neonatal Nurse Pr...|      MORTGAGE|  120000.0|\n",
      "|    13000|      13000|        13000.0| 60 months|   14.47|     305.67|    C|       C2| Stationary Engineer|      MORTGAGE|   75000.0|\n",
      "+---------+-----------+---------------+----------+--------+-----------+-----+---------+--------------------+--------------+----------+\n",
      "only showing top 20 rows\n",
      "\n"
     ]
    }
   ],
   "source": [
    "df_pyspark.show()"
   ]
  },
  {
   "cell_type": "code",
   "execution_count": 20,
   "id": "58e03960",
   "metadata": {},
   "outputs": [
    {
     "name": "stdout",
     "output_type": "stream",
     "text": [
      "+---------+-----------+---------------+----------+--------+-----------+-----+---------+--------------------+--------------+\n",
      "|loan_amnt|funded_amnt|funded_amnt_inv|      term|int_rate|installment|grade|sub_grade|           emp_title|home_ownership|\n",
      "+---------+-----------+---------------+----------+--------+-----------+-----+---------+--------------------+--------------+\n",
      "|     2500|       2500|         2500.0| 36 months|   13.56|      84.92|    C|       C1|                Chef|          RENT|\n",
      "|    30000|      30000|        30000.0| 60 months|   18.94|     777.23|    D|       D2|         Postmaster |      MORTGAGE|\n",
      "|     5000|       5000|         5000.0| 36 months|   17.97|     180.69|    D|       D1|      Administrative|      MORTGAGE|\n",
      "|     4000|       4000|         4000.0| 36 months|   18.94|     146.51|    D|       D2|       IT Supervisor|      MORTGAGE|\n",
      "|    30000|      30000|        30000.0| 60 months|   16.14|     731.78|    C|       C4|            Mechanic|      MORTGAGE|\n",
      "|     5550|       5550|         5550.0| 36 months|   15.02|     192.45|    C|       C3|        Director COE|      MORTGAGE|\n",
      "|     2000|       2000|         2000.0| 36 months|   17.97|      72.28|    D|       D1|     Account Manager|          RENT|\n",
      "|     6000|       6000|         6000.0| 36 months|   13.56|     203.79|    C|       C1|  Assistant Director|          RENT|\n",
      "|     5000|       5000|         5000.0| 36 months|   17.97|     180.69|    D|       D1| Legal Assistant III|      MORTGAGE|\n",
      "|     6000|       6000|         6000.0| 36 months|   14.47|     206.44|    C|       C2|                null|           OWN|\n",
      "|     5500|       5500|         5500.0| 36 months|   22.35|     211.05|    D|       D5|                null|      MORTGAGE|\n",
      "|    28000|      28000|        28000.0| 60 months|   11.31|     613.13|    B|       B3|          Consultant|      MORTGAGE|\n",
      "|    11200|      11200|        11200.0| 36 months|    8.19|     351.95|    A|       A4|Job Coach Supervisor|      MORTGAGE|\n",
      "|     6500|       6500|         6500.0| 36 months|   17.97|      234.9|    D|       D1|Quality Field Eng...|      MORTGAGE|\n",
      "|    22000|      22000|        22000.0| 60 months|   12.98|     500.35|    B|       B5|             Teller |      MORTGAGE|\n",
      "|     3500|       3500|         3500.0| 36 months|   16.14|      123.3|    C|       C4|respritory therapist|      MORTGAGE|\n",
      "|     7000|       7000|         7000.0| 36 months|   12.98|      235.8|    B|       B5|    Worship Director|      MORTGAGE|\n",
      "|    25000|      25000|        25000.0| 60 months|   16.91|     620.11|    C|       C5|          Processor |      MORTGAGE|\n",
      "|    16000|      16000|        16000.0| 60 months|   20.89|     431.87|    D|       D4|Neonatal Nurse Pr...|      MORTGAGE|\n",
      "|    13000|      13000|        13000.0| 60 months|   14.47|     305.67|    C|       C2| Stationary Engineer|      MORTGAGE|\n",
      "+---------+-----------+---------------+----------+--------+-----------+-----+---------+--------------------+--------------+\n",
      "only showing top 20 rows\n",
      "\n"
     ]
    }
   ],
   "source": [
    "### Drop the columns\n",
    "df_pyspark.drop('annual_inc').show()"
   ]
  },
  {
   "cell_type": "code",
   "execution_count": 21,
   "id": "e79a1d88",
   "metadata": {},
   "outputs": [
    {
     "name": "stdout",
     "output_type": "stream",
     "text": [
      "+---------+-----------+---------------+----------+--------+-----------+-----+---------+--------------------+--------------+----------+\n",
      "|loan_amnt|funded_amnt|funded_amnt_inv|      term|int_rate|installment|grade|sub_grade|           emp_title|home_ownership|annual_inc|\n",
      "+---------+-----------+---------------+----------+--------+-----------+-----+---------+--------------------+--------------+----------+\n",
      "|     2500|       2500|         2500.0| 36 months|   13.56|      84.92|    C|       C1|                Chef|          RENT|   55000.0|\n",
      "|    30000|      30000|        30000.0| 60 months|   18.94|     777.23|    D|       D2|         Postmaster |      MORTGAGE|   90000.0|\n",
      "|     5000|       5000|         5000.0| 36 months|   17.97|     180.69|    D|       D1|      Administrative|      MORTGAGE|   59280.0|\n",
      "|     4000|       4000|         4000.0| 36 months|   18.94|     146.51|    D|       D2|       IT Supervisor|      MORTGAGE|   92000.0|\n",
      "|    30000|      30000|        30000.0| 60 months|   16.14|     731.78|    C|       C4|            Mechanic|      MORTGAGE|   57250.0|\n",
      "|     5550|       5550|         5550.0| 36 months|   15.02|     192.45|    C|       C3|        Director COE|      MORTGAGE|  152500.0|\n",
      "|     2000|       2000|         2000.0| 36 months|   17.97|      72.28|    D|       D1|     Account Manager|          RENT|   51000.0|\n",
      "|     6000|       6000|         6000.0| 36 months|   13.56|     203.79|    C|       C1|  Assistant Director|          RENT|   65000.0|\n",
      "|     5000|       5000|         5000.0| 36 months|   17.97|     180.69|    D|       D1| Legal Assistant III|      MORTGAGE|   53580.0|\n",
      "|     6000|       6000|         6000.0| 36 months|   14.47|     206.44|    C|       C2|                null|           OWN|  300000.0|\n",
      "|     5500|       5500|         5500.0| 36 months|   22.35|     211.05|    D|       D5|                null|      MORTGAGE|   50000.0|\n",
      "|    28000|      28000|        28000.0| 60 months|   11.31|     613.13|    B|       B3|          Consultant|      MORTGAGE|   70000.0|\n",
      "|    11200|      11200|        11200.0| 36 months|    8.19|     351.95|    A|       A4|Job Coach Supervisor|      MORTGAGE|   65000.0|\n",
      "|     6500|       6500|         6500.0| 36 months|   17.97|      234.9|    D|       D1|Quality Field Eng...|      MORTGAGE|  154000.0|\n",
      "|    22000|      22000|        22000.0| 60 months|   12.98|     500.35|    B|       B5|             Teller |      MORTGAGE|   65000.0|\n",
      "|     3500|       3500|         3500.0| 36 months|   16.14|      123.3|    C|       C4|respritory therapist|      MORTGAGE|   80000.0|\n",
      "|     7000|       7000|         7000.0| 36 months|   12.98|      235.8|    B|       B5|    Worship Director|      MORTGAGE|  102500.0|\n",
      "|    25000|      25000|        25000.0| 60 months|   16.91|     620.11|    C|       C5|          Processor |      MORTGAGE|   23878.0|\n",
      "|    16000|      16000|        16000.0| 60 months|   20.89|     431.87|    D|       D4|Neonatal Nurse Pr...|      MORTGAGE|  120000.0|\n",
      "|    13000|      13000|        13000.0| 60 months|   14.47|     305.67|    C|       C2| Stationary Engineer|      MORTGAGE|   75000.0|\n",
      "+---------+-----------+---------------+----------+--------+-----------+-----+---------+--------------------+--------------+----------+\n",
      "only showing top 20 rows\n",
      "\n"
     ]
    }
   ],
   "source": [
    "### how == all : 전체가 row가 null인 경우 제외하고 보기\n",
    "df_pyspark.na.drop(how=\"all\").show()"
   ]
  },
  {
   "cell_type": "code",
   "execution_count": 22,
   "id": "2c3d5a24",
   "metadata": {
    "scrolled": true
   },
   "outputs": [
    {
     "name": "stdout",
     "output_type": "stream",
     "text": [
      "+---------+-----------+---------------+----------+--------+-----------+-----+---------+--------------------+--------------+----------+\n",
      "|loan_amnt|funded_amnt|funded_amnt_inv|      term|int_rate|installment|grade|sub_grade|           emp_title|home_ownership|annual_inc|\n",
      "+---------+-----------+---------------+----------+--------+-----------+-----+---------+--------------------+--------------+----------+\n",
      "|     2500|       2500|         2500.0| 36 months|   13.56|      84.92|    C|       C1|                Chef|          RENT|   55000.0|\n",
      "|    30000|      30000|        30000.0| 60 months|   18.94|     777.23|    D|       D2|         Postmaster |      MORTGAGE|   90000.0|\n",
      "|     5000|       5000|         5000.0| 36 months|   17.97|     180.69|    D|       D1|      Administrative|      MORTGAGE|   59280.0|\n",
      "|     4000|       4000|         4000.0| 36 months|   18.94|     146.51|    D|       D2|       IT Supervisor|      MORTGAGE|   92000.0|\n",
      "|    30000|      30000|        30000.0| 60 months|   16.14|     731.78|    C|       C4|            Mechanic|      MORTGAGE|   57250.0|\n",
      "|     5550|       5550|         5550.0| 36 months|   15.02|     192.45|    C|       C3|        Director COE|      MORTGAGE|  152500.0|\n",
      "|     2000|       2000|         2000.0| 36 months|   17.97|      72.28|    D|       D1|     Account Manager|          RENT|   51000.0|\n",
      "|     6000|       6000|         6000.0| 36 months|   13.56|     203.79|    C|       C1|  Assistant Director|          RENT|   65000.0|\n",
      "|     5000|       5000|         5000.0| 36 months|   17.97|     180.69|    D|       D1| Legal Assistant III|      MORTGAGE|   53580.0|\n",
      "|    28000|      28000|        28000.0| 60 months|   11.31|     613.13|    B|       B3|          Consultant|      MORTGAGE|   70000.0|\n",
      "|    11200|      11200|        11200.0| 36 months|    8.19|     351.95|    A|       A4|Job Coach Supervisor|      MORTGAGE|   65000.0|\n",
      "|     6500|       6500|         6500.0| 36 months|   17.97|      234.9|    D|       D1|Quality Field Eng...|      MORTGAGE|  154000.0|\n",
      "|    22000|      22000|        22000.0| 60 months|   12.98|     500.35|    B|       B5|             Teller |      MORTGAGE|   65000.0|\n",
      "|     3500|       3500|         3500.0| 36 months|   16.14|      123.3|    C|       C4|respritory therapist|      MORTGAGE|   80000.0|\n",
      "|     7000|       7000|         7000.0| 36 months|   12.98|      235.8|    B|       B5|    Worship Director|      MORTGAGE|  102500.0|\n",
      "|    25000|      25000|        25000.0| 60 months|   16.91|     620.11|    C|       C5|          Processor |      MORTGAGE|   23878.0|\n",
      "|    16000|      16000|        16000.0| 60 months|   20.89|     431.87|    D|       D4|Neonatal Nurse Pr...|      MORTGAGE|  120000.0|\n",
      "|    13000|      13000|        13000.0| 60 months|   14.47|     305.67|    C|       C2| Stationary Engineer|      MORTGAGE|   75000.0|\n",
      "|    13000|      13000|        13000.0| 36 months|   14.47|     447.29|    C|       C2|   Exhibits director|      MORTGAGE|   55000.0|\n",
      "|     9600|       9600|         9600.0| 36 months|    23.4|     373.62|    E|       E1| driver coordinator |          RENT|   65000.0|\n",
      "+---------+-----------+---------------+----------+--------+-----------+-----+---------+--------------------+--------------+----------+\n",
      "only showing top 20 rows\n",
      "\n"
     ]
    }
   ],
   "source": [
    "### any == how : row 요소가 하나라도 null인 경우 제외하고 보기\n",
    "df_pyspark.na.drop(how=\"any\").show()"
   ]
  },
  {
   "cell_type": "code",
   "execution_count": 23,
   "id": "1691b824",
   "metadata": {},
   "outputs": [
    {
     "name": "stdout",
     "output_type": "stream",
     "text": [
      "+---------+-----------+---------------+----------+--------+-----------+-----+---------+--------------------+--------------+----------+\n",
      "|loan_amnt|funded_amnt|funded_amnt_inv|      term|int_rate|installment|grade|sub_grade|           emp_title|home_ownership|annual_inc|\n",
      "+---------+-----------+---------------+----------+--------+-----------+-----+---------+--------------------+--------------+----------+\n",
      "|     2500|       2500|         2500.0| 36 months|   13.56|      84.92|    C|       C1|                Chef|          RENT|   55000.0|\n",
      "|    30000|      30000|        30000.0| 60 months|   18.94|     777.23|    D|       D2|         Postmaster |      MORTGAGE|   90000.0|\n",
      "|     5000|       5000|         5000.0| 36 months|   17.97|     180.69|    D|       D1|      Administrative|      MORTGAGE|   59280.0|\n",
      "|     4000|       4000|         4000.0| 36 months|   18.94|     146.51|    D|       D2|       IT Supervisor|      MORTGAGE|   92000.0|\n",
      "|    30000|      30000|        30000.0| 60 months|   16.14|     731.78|    C|       C4|            Mechanic|      MORTGAGE|   57250.0|\n",
      "|     5550|       5550|         5550.0| 36 months|   15.02|     192.45|    C|       C3|        Director COE|      MORTGAGE|  152500.0|\n",
      "|     2000|       2000|         2000.0| 36 months|   17.97|      72.28|    D|       D1|     Account Manager|          RENT|   51000.0|\n",
      "|     6000|       6000|         6000.0| 36 months|   13.56|     203.79|    C|       C1|  Assistant Director|          RENT|   65000.0|\n",
      "|     5000|       5000|         5000.0| 36 months|   17.97|     180.69|    D|       D1| Legal Assistant III|      MORTGAGE|   53580.0|\n",
      "|     6000|       6000|         6000.0| 36 months|   14.47|     206.44|    C|       C2|                null|           OWN|  300000.0|\n",
      "|     5500|       5500|         5500.0| 36 months|   22.35|     211.05|    D|       D5|                null|      MORTGAGE|   50000.0|\n",
      "|    28000|      28000|        28000.0| 60 months|   11.31|     613.13|    B|       B3|          Consultant|      MORTGAGE|   70000.0|\n",
      "|    11200|      11200|        11200.0| 36 months|    8.19|     351.95|    A|       A4|Job Coach Supervisor|      MORTGAGE|   65000.0|\n",
      "|     6500|       6500|         6500.0| 36 months|   17.97|      234.9|    D|       D1|Quality Field Eng...|      MORTGAGE|  154000.0|\n",
      "|    22000|      22000|        22000.0| 60 months|   12.98|     500.35|    B|       B5|             Teller |      MORTGAGE|   65000.0|\n",
      "|     3500|       3500|         3500.0| 36 months|   16.14|      123.3|    C|       C4|respritory therapist|      MORTGAGE|   80000.0|\n",
      "|     7000|       7000|         7000.0| 36 months|   12.98|      235.8|    B|       B5|    Worship Director|      MORTGAGE|  102500.0|\n",
      "|    25000|      25000|        25000.0| 60 months|   16.91|     620.11|    C|       C5|          Processor |      MORTGAGE|   23878.0|\n",
      "|    16000|      16000|        16000.0| 60 months|   20.89|     431.87|    D|       D4|Neonatal Nurse Pr...|      MORTGAGE|  120000.0|\n",
      "|    13000|      13000|        13000.0| 60 months|   14.47|     305.67|    C|       C2| Stationary Engineer|      MORTGAGE|   75000.0|\n",
      "+---------+-----------+---------------+----------+--------+-----------+-----+---------+--------------------+--------------+----------+\n",
      "only showing top 20 rows\n",
      "\n"
     ]
    }
   ],
   "source": [
    "### threshold\n",
    "df_pyspark.na.drop(how=\"any\", thresh=2).show()"
   ]
  },
  {
   "cell_type": "code",
   "execution_count": 24,
   "id": "391f2119",
   "metadata": {},
   "outputs": [
    {
     "name": "stdout",
     "output_type": "stream",
     "text": [
      "+---------+-----------+---------------+----------+--------+-----------+-----+---------+--------------------+--------------+----------+\n",
      "|loan_amnt|funded_amnt|funded_amnt_inv|      term|int_rate|installment|grade|sub_grade|           emp_title|home_ownership|annual_inc|\n",
      "+---------+-----------+---------------+----------+--------+-----------+-----+---------+--------------------+--------------+----------+\n",
      "|     2500|       2500|         2500.0| 36 months|   13.56|      84.92|    C|       C1|                Chef|          RENT|   55000.0|\n",
      "|    30000|      30000|        30000.0| 60 months|   18.94|     777.23|    D|       D2|         Postmaster |      MORTGAGE|   90000.0|\n",
      "|     5000|       5000|         5000.0| 36 months|   17.97|     180.69|    D|       D1|      Administrative|      MORTGAGE|   59280.0|\n",
      "|     4000|       4000|         4000.0| 36 months|   18.94|     146.51|    D|       D2|       IT Supervisor|      MORTGAGE|   92000.0|\n",
      "|    30000|      30000|        30000.0| 60 months|   16.14|     731.78|    C|       C4|            Mechanic|      MORTGAGE|   57250.0|\n",
      "|     5550|       5550|         5550.0| 36 months|   15.02|     192.45|    C|       C3|        Director COE|      MORTGAGE|  152500.0|\n",
      "|     2000|       2000|         2000.0| 36 months|   17.97|      72.28|    D|       D1|     Account Manager|          RENT|   51000.0|\n",
      "|     6000|       6000|         6000.0| 36 months|   13.56|     203.79|    C|       C1|  Assistant Director|          RENT|   65000.0|\n",
      "|     5000|       5000|         5000.0| 36 months|   17.97|     180.69|    D|       D1| Legal Assistant III|      MORTGAGE|   53580.0|\n",
      "|    28000|      28000|        28000.0| 60 months|   11.31|     613.13|    B|       B3|          Consultant|      MORTGAGE|   70000.0|\n",
      "|    11200|      11200|        11200.0| 36 months|    8.19|     351.95|    A|       A4|Job Coach Supervisor|      MORTGAGE|   65000.0|\n",
      "|     6500|       6500|         6500.0| 36 months|   17.97|      234.9|    D|       D1|Quality Field Eng...|      MORTGAGE|  154000.0|\n",
      "|    22000|      22000|        22000.0| 60 months|   12.98|     500.35|    B|       B5|             Teller |      MORTGAGE|   65000.0|\n",
      "|     3500|       3500|         3500.0| 36 months|   16.14|      123.3|    C|       C4|respritory therapist|      MORTGAGE|   80000.0|\n",
      "|     7000|       7000|         7000.0| 36 months|   12.98|      235.8|    B|       B5|    Worship Director|      MORTGAGE|  102500.0|\n",
      "|    25000|      25000|        25000.0| 60 months|   16.91|     620.11|    C|       C5|          Processor |      MORTGAGE|   23878.0|\n",
      "|    16000|      16000|        16000.0| 60 months|   20.89|     431.87|    D|       D4|Neonatal Nurse Pr...|      MORTGAGE|  120000.0|\n",
      "|    13000|      13000|        13000.0| 60 months|   14.47|     305.67|    C|       C2| Stationary Engineer|      MORTGAGE|   75000.0|\n",
      "|    13000|      13000|        13000.0| 36 months|   14.47|     447.29|    C|       C2|   Exhibits director|      MORTGAGE|   55000.0|\n",
      "|     9600|       9600|         9600.0| 36 months|    23.4|     373.62|    E|       E1| driver coordinator |          RENT|   65000.0|\n",
      "+---------+-----------+---------------+----------+--------+-----------+-----+---------+--------------------+--------------+----------+\n",
      "only showing top 20 rows\n",
      "\n"
     ]
    }
   ],
   "source": [
    "### Subset\n",
    "df_pyspark.na.drop(how=\"any\", subset=['emp_title']).show()"
   ]
  },
  {
   "cell_type": "code",
   "execution_count": 25,
   "id": "58c59c95",
   "metadata": {},
   "outputs": [
    {
     "name": "stdout",
     "output_type": "stream",
     "text": [
      "+---------+-----------+---------------+----------+--------+-----------+-----+---------+--------------------+--------------+----------+\n",
      "|loan_amnt|funded_amnt|funded_amnt_inv|      term|int_rate|installment|grade|sub_grade|           emp_title|home_ownership|annual_inc|\n",
      "+---------+-----------+---------------+----------+--------+-----------+-----+---------+--------------------+--------------+----------+\n",
      "|     2500|       2500|         2500.0| 36 months|   13.56|      84.92|    C|       C1|                Chef|          RENT|   55000.0|\n",
      "|    30000|      30000|        30000.0| 60 months|   18.94|     777.23|    D|       D2|         Postmaster |      MORTGAGE|   90000.0|\n",
      "|     5000|       5000|         5000.0| 36 months|   17.97|     180.69|    D|       D1|      Administrative|      MORTGAGE|   59280.0|\n",
      "|     4000|       4000|         4000.0| 36 months|   18.94|     146.51|    D|       D2|       IT Supervisor|      MORTGAGE|   92000.0|\n",
      "|    30000|      30000|        30000.0| 60 months|   16.14|     731.78|    C|       C4|            Mechanic|      MORTGAGE|   57250.0|\n",
      "|     5550|       5550|         5550.0| 36 months|   15.02|     192.45|    C|       C3|        Director COE|      MORTGAGE|  152500.0|\n",
      "|     2000|       2000|         2000.0| 36 months|   17.97|      72.28|    D|       D1|     Account Manager|          RENT|   51000.0|\n",
      "|     6000|       6000|         6000.0| 36 months|   13.56|     203.79|    C|       C1|  Assistant Director|          RENT|   65000.0|\n",
      "|     5000|       5000|         5000.0| 36 months|   17.97|     180.69|    D|       D1| Legal Assistant III|      MORTGAGE|   53580.0|\n",
      "|     6000|       6000|         6000.0| 36 months|   14.47|     206.44|    C|       C2|      Missing Values|           OWN|  300000.0|\n",
      "|     5500|       5500|         5500.0| 36 months|   22.35|     211.05|    D|       D5|      Missing Values|      MORTGAGE|   50000.0|\n",
      "|    28000|      28000|        28000.0| 60 months|   11.31|     613.13|    B|       B3|          Consultant|      MORTGAGE|   70000.0|\n",
      "|    11200|      11200|        11200.0| 36 months|    8.19|     351.95|    A|       A4|Job Coach Supervisor|      MORTGAGE|   65000.0|\n",
      "|     6500|       6500|         6500.0| 36 months|   17.97|      234.9|    D|       D1|Quality Field Eng...|      MORTGAGE|  154000.0|\n",
      "|    22000|      22000|        22000.0| 60 months|   12.98|     500.35|    B|       B5|             Teller |      MORTGAGE|   65000.0|\n",
      "|     3500|       3500|         3500.0| 36 months|   16.14|      123.3|    C|       C4|respritory therapist|      MORTGAGE|   80000.0|\n",
      "|     7000|       7000|         7000.0| 36 months|   12.98|      235.8|    B|       B5|    Worship Director|      MORTGAGE|  102500.0|\n",
      "|    25000|      25000|        25000.0| 60 months|   16.91|     620.11|    C|       C5|          Processor |      MORTGAGE|   23878.0|\n",
      "|    16000|      16000|        16000.0| 60 months|   20.89|     431.87|    D|       D4|Neonatal Nurse Pr...|      MORTGAGE|  120000.0|\n",
      "|    13000|      13000|        13000.0| 60 months|   14.47|     305.67|    C|       C2| Stationary Engineer|      MORTGAGE|   75000.0|\n",
      "+---------+-----------+---------------+----------+--------+-----------+-----+---------+--------------------+--------------+----------+\n",
      "only showing top 20 rows\n",
      "\n"
     ]
    }
   ],
   "source": [
    "### Filling the Missing Value\n",
    "df_pyspark.na.fill('Missing Values', subset=['emp_title', 'grade']).show()"
   ]
  },
  {
   "cell_type": "code",
   "execution_count": 26,
   "id": "29c06fe5",
   "metadata": {},
   "outputs": [],
   "source": [
    "from pyspark.ml.feature import Imputer\n",
    "\n",
    "imputer = Imputer(\n",
    "    inputCols=['funded_amnt', 'funded_amnt_inv'],\n",
    "    outputCols = [\"{}_imputed\".format(c) for c in ['funded_amnt', 'funded_amnt_inv']]\n",
    "    ).setStrategy(\"mean\")"
   ]
  },
  {
   "cell_type": "code",
   "execution_count": 27,
   "id": "1d3e2f0e",
   "metadata": {},
   "outputs": [
    {
     "name": "stdout",
     "output_type": "stream",
     "text": [
      "+---------+-----------+---------------+----------+--------+-----------+-----+---------+--------------------+--------------+----------+-------------------+-----------------------+\n",
      "|loan_amnt|funded_amnt|funded_amnt_inv|      term|int_rate|installment|grade|sub_grade|           emp_title|home_ownership|annual_inc|funded_amnt_imputed|funded_amnt_inv_imputed|\n",
      "+---------+-----------+---------------+----------+--------+-----------+-----+---------+--------------------+--------------+----------+-------------------+-----------------------+\n",
      "|     2500|       2500|         2500.0| 36 months|   13.56|      84.92|    C|       C1|                Chef|          RENT|   55000.0|               2500|                 2500.0|\n",
      "|    30000|      30000|        30000.0| 60 months|   18.94|     777.23|    D|       D2|         Postmaster |      MORTGAGE|   90000.0|              30000|                30000.0|\n",
      "|     5000|       5000|         5000.0| 36 months|   17.97|     180.69|    D|       D1|      Administrative|      MORTGAGE|   59280.0|               5000|                 5000.0|\n",
      "|     4000|       4000|         4000.0| 36 months|   18.94|     146.51|    D|       D2|       IT Supervisor|      MORTGAGE|   92000.0|               4000|                 4000.0|\n",
      "|    30000|      30000|        30000.0| 60 months|   16.14|     731.78|    C|       C4|            Mechanic|      MORTGAGE|   57250.0|              30000|                30000.0|\n",
      "|     5550|       5550|         5550.0| 36 months|   15.02|     192.45|    C|       C3|        Director COE|      MORTGAGE|  152500.0|               5550|                 5550.0|\n",
      "|     2000|       2000|         2000.0| 36 months|   17.97|      72.28|    D|       D1|     Account Manager|          RENT|   51000.0|               2000|                 2000.0|\n",
      "|     6000|       6000|         6000.0| 36 months|   13.56|     203.79|    C|       C1|  Assistant Director|          RENT|   65000.0|               6000|                 6000.0|\n",
      "|     5000|       5000|         5000.0| 36 months|   17.97|     180.69|    D|       D1| Legal Assistant III|      MORTGAGE|   53580.0|               5000|                 5000.0|\n",
      "|     6000|       6000|         6000.0| 36 months|   14.47|     206.44|    C|       C2|                null|           OWN|  300000.0|               6000|                 6000.0|\n",
      "|     5500|       5500|         5500.0| 36 months|   22.35|     211.05|    D|       D5|                null|      MORTGAGE|   50000.0|               5500|                 5500.0|\n",
      "|    28000|      28000|        28000.0| 60 months|   11.31|     613.13|    B|       B3|          Consultant|      MORTGAGE|   70000.0|              28000|                28000.0|\n",
      "|    11200|      11200|        11200.0| 36 months|    8.19|     351.95|    A|       A4|Job Coach Supervisor|      MORTGAGE|   65000.0|              11200|                11200.0|\n",
      "|     6500|       6500|         6500.0| 36 months|   17.97|      234.9|    D|       D1|Quality Field Eng...|      MORTGAGE|  154000.0|               6500|                 6500.0|\n",
      "|    22000|      22000|        22000.0| 60 months|   12.98|     500.35|    B|       B5|             Teller |      MORTGAGE|   65000.0|              22000|                22000.0|\n",
      "|     3500|       3500|         3500.0| 36 months|   16.14|      123.3|    C|       C4|respritory therapist|      MORTGAGE|   80000.0|               3500|                 3500.0|\n",
      "|     7000|       7000|         7000.0| 36 months|   12.98|      235.8|    B|       B5|    Worship Director|      MORTGAGE|  102500.0|               7000|                 7000.0|\n",
      "|    25000|      25000|        25000.0| 60 months|   16.91|     620.11|    C|       C5|          Processor |      MORTGAGE|   23878.0|              25000|                25000.0|\n",
      "|    16000|      16000|        16000.0| 60 months|   20.89|     431.87|    D|       D4|Neonatal Nurse Pr...|      MORTGAGE|  120000.0|              16000|                16000.0|\n",
      "|    13000|      13000|        13000.0| 60 months|   14.47|     305.67|    C|       C2| Stationary Engineer|      MORTGAGE|   75000.0|              13000|                13000.0|\n",
      "+---------+-----------+---------------+----------+--------+-----------+-----+---------+--------------------+--------------+----------+-------------------+-----------------------+\n",
      "only showing top 20 rows\n",
      "\n"
     ]
    }
   ],
   "source": [
    "### Add imputation cols to df\n",
    "imputer.fit(df_pyspark).transform(df_pyspark).show()"
   ]
  },
  {
   "cell_type": "markdown",
   "id": "24b10bfc",
   "metadata": {},
   "source": [
    "### Filter operation\n",
    "&, |, ==, ~"
   ]
  },
  {
   "cell_type": "code",
   "execution_count": 28,
   "id": "f60f96ab",
   "metadata": {},
   "outputs": [
    {
     "name": "stdout",
     "output_type": "stream",
     "text": [
      "+-----+---------+\n",
      "|grade|sub_grade|\n",
      "+-----+---------+\n",
      "|    C|       C1|\n",
      "|    D|       D1|\n",
      "|    D|       D2|\n",
      "|    C|       C3|\n",
      "|    D|       D1|\n",
      "|    C|       C1|\n",
      "|    D|       D1|\n",
      "|    C|       C2|\n",
      "|    D|       D5|\n",
      "|    A|       A4|\n",
      "|    D|       D1|\n",
      "|    C|       C4|\n",
      "|    B|       B5|\n",
      "|    C|       C2|\n",
      "|    C|       C1|\n",
      "|    C|       C2|\n",
      "|    E|       E1|\n",
      "|    D|       D4|\n",
      "|    C|       C2|\n",
      "|    E|       E1|\n",
      "+-----+---------+\n",
      "only showing top 20 rows\n",
      "\n"
     ]
    }
   ],
   "source": [
    "df_pyspark.filter(\"loan_amnt <= 15000\").select(['grade','sub_grade']).show()"
   ]
  },
  {
   "cell_type": "code",
   "execution_count": 29,
   "id": "c7d8d115",
   "metadata": {},
   "outputs": [
    {
     "name": "stdout",
     "output_type": "stream",
     "text": [
      "+---------+-----------+---------------+----------+--------+-----------+-----+---------+--------------------+--------------+----------+\n",
      "|loan_amnt|funded_amnt|funded_amnt_inv|      term|int_rate|installment|grade|sub_grade|           emp_title|home_ownership|annual_inc|\n",
      "+---------+-----------+---------------+----------+--------+-----------+-----+---------+--------------------+--------------+----------+\n",
      "|     6000|       6000|         5975.0| 36 months|    6.46|     183.79|    A|       A1|Substance Abuse C...|      MORTGAGE|   40000.0|\n",
      "|     2000|       2000|         2000.0| 36 months|    8.19|      62.85|    A|       A4|             Laborer|      MORTGAGE|  100000.0|\n",
      "|     9000|       9000|         8975.0| 36 months|    6.46|     275.68|    A|       A1|              Driver|      MORTGAGE|   35000.0|\n",
      "|     1000|       1000|          975.0| 36 months|    8.19|      31.43|    A|       A4|     Project manager|      MORTGAGE|   78000.0|\n",
      "|     3000|       3000|         3000.0| 36 months|    8.81|      95.14|    A|       A5|                null|          RENT|   71250.0|\n",
      "|     6000|       6000|         6000.0| 36 months|    6.46|     183.79|    A|       A1|      Senior manager|          RENT|   27000.0|\n",
      "|     1000|       1000|          975.0| 36 months|    6.46|      30.64|    A|       A1| Service Consultant |      MORTGAGE|   49989.0|\n",
      "|     5000|       5000|         4975.0| 36 months|    7.02|     154.44|    A|       A2|E-commerce associate|          RENT|   26976.0|\n",
      "|     6600|       6600|         6600.0| 36 months|    8.19|      207.4|    A|       A4|                null|      MORTGAGE|   95000.0|\n",
      "|    10000|      10000|        10000.0| 36 months|    7.56|     311.34|    A|       A3|         office work|           OWN|   44000.0|\n",
      "|     3000|       3000|         2975.0| 36 months|    8.19|      94.28|    A|       A4|  Marketing director|      MORTGAGE|  100000.0|\n",
      "|     5100|       5100|         5100.0| 36 months|    7.02|     157.52|    A|       A2|Administration Se...|      MORTGAGE|   76000.0|\n",
      "|     4000|       4000|         4000.0| 36 months|    7.02|     123.55|    A|       A2|         Lead Pastor|           OWN|   60000.0|\n",
      "|    10000|      10000|        10000.0| 36 months|    8.81|     317.12|    A|       A5|          Supervisor|          RENT|   95000.0|\n",
      "|     5000|       5000|         5000.0| 36 months|    6.46|     153.16|    A|       A1|Director of Rehab...|      MORTGAGE|  120000.0|\n",
      "|    10000|      10000|        10000.0| 36 months|    8.81|     317.12|    A|       A5|Research Team Man...|          RENT|   62000.0|\n",
      "|     6000|       6000|         5975.0| 36 months|    7.02|     185.32|    A|       A2|Mutual Funds Admi...|      MORTGAGE|   65000.0|\n",
      "|     1300|       1300|         1300.0| 36 months|    7.56|      40.48|    A|       A3|   Language Director|      MORTGAGE|   80000.0|\n",
      "|     6000|       6000|         6000.0| 36 months|    8.19|     188.55|    A|       A4|           Collector|          RENT|   39000.0|\n",
      "|     8000|       8000|         8000.0| 36 months|    8.81|      253.7|    A|       A5|           Bartender|      MORTGAGE|   55000.0|\n",
      "+---------+-----------+---------------+----------+--------+-----------+-----+---------+--------------------+--------------+----------+\n",
      "only showing top 20 rows\n",
      "\n"
     ]
    }
   ],
   "source": [
    "df_pyspark.filter((df_pyspark['funded_amnt']<= 10000) & (df_pyspark['grade'] == 'A')).show()"
   ]
  },
  {
   "cell_type": "code",
   "execution_count": 30,
   "id": "78582c32",
   "metadata": {},
   "outputs": [
    {
     "name": "stdout",
     "output_type": "stream",
     "text": [
      "+-----+--------------+----------------+--------------------+-----------------+--------------------+--------------------+\n",
      "|grade|sum(loan_amnt)|sum(funded_amnt)|sum(funded_amnt_inv)|    sum(int_rate)|    sum(installment)|     sum(annual_inc)|\n",
      "+-----+--------------+----------------+--------------------+-----------------+--------------------+--------------------+\n",
      "|    F|      17914100|        17914100|           1.79141E7|30646.74999999994|   586729.5499999997|       7.473133698E7|\n",
      "|    E|     123137250|       123137250|         1.2313265E8| 218245.959999998|   4157440.520000002| 6.510490123199999E8|\n",
      "|    B|     907196775|       907196775|  9.06702013256254E8|623239.5399999818|2.5229945039999913E7|      4.5494961081E9|\n",
      "|    D|     425855050|       425855050|   4.2583984951666E8|531894.8300000295|1.2994959859999878E7|     2.02170182342E9|\n",
      "|    C|     777004325|       777004325|        7.76970225E8|733115.1800000251|2.2449047129999556E7|3.7448423872400007E9|\n",
      "|    A|     952753500|       952753500|   9.5272169873809E8| 438425.840000016| 2.764048960999991E7|     5.32303855903E9|\n",
      "|    G|       4099675|         4099675|           4099675.0|7369.109999999997|  142208.52000000002|1.6285452879999999E7|\n",
      "+-----+--------------+----------------+--------------------+-----------------+--------------------+--------------------+\n",
      "\n"
     ]
    }
   ],
   "source": [
    "### Group By\n",
    "df_pyspark.groupBy('grade').sum().show()"
   ]
  },
  {
   "cell_type": "code",
   "execution_count": 31,
   "id": "62d4b60a",
   "metadata": {},
   "outputs": [
    {
     "name": "stdout",
     "output_type": "stream",
     "text": [
      "+---------+------------------+------------------+--------------------+------------------+------------------+-----------------+\n",
      "|sub_grade|    avg(loan_amnt)|  avg(funded_amnt)|avg(funded_amnt_inv)|     avg(int_rate)|  avg(installment)|  avg(annual_inc)|\n",
      "+---------+------------------+------------------+--------------------+------------------+------------------+-----------------+\n",
      "|       D5| 16813.51534908992| 16813.51534908992|  16812.870143982615| 22.34555827220852| 521.6467019831558|72727.93948655257|\n",
      "|       F2|16787.394957983193|16787.394957983193|  16787.394957983193|29.690000000000044| 552.4360504201679|75486.57983193277|\n",
      "|       B4| 17138.84003810361| 17138.84003810361|  17131.022441287758|11.640470433062513| 467.5460218362988|83994.52840404486|\n",
      "|       A2|15594.282450223045|15594.282450223045|  15593.702941800675| 6.777449679033881|458.82039712762645|91643.34302905016|\n",
      "|       E4|15353.110859728507|15353.110859728507|  15352.677224736048|26.294683257918603|504.64551282051224|77644.10736048265|\n",
      "|       B2|16545.197740112995|16545.197740112995|  16535.541069100393| 10.55698392003515|455.74309604519544| 83538.8156923077|\n",
      "|       C3| 16072.73555939359| 16072.73555939359|  16072.054308194205|15.017403569372062|461.98786317405717|77689.74000383804|\n",
      "|       D1| 15580.98111227702| 15580.98111227702|   15580.45645330535|17.970000000000372|462.35711737370843|75925.74413581174|\n",
      "|       C4| 15788.85866517106| 15788.85866517106|  15788.140773976444|16.139999999999585| 465.3188805384212|76684.27372406058|\n",
      "|       F1|17926.291079812207|17926.291079812207|  17926.291079812207|28.666666666666657| 572.7815727699532|68877.46319248827|\n",
      "|       D3|15549.938391128322|15549.938391128322|  15549.344305580003|19.919999999999302|480.89530364372126|76252.64232881533|\n",
      "|       F5|          18353.75|          18353.75|            18353.75|             30.75| 625.5043999999999|         77048.04|\n",
      "|       G2| 9970.454545454546| 9970.454545454546|   9970.454545454546|30.839999999999996|367.54836363636366|68213.83636363636|\n",
      "|       B1|16562.070388349515|16562.070388349515|  16552.873786407767| 10.16487864077731| 455.0812475728159|84091.55362233009|\n",
      "|       B3|14708.688634086608|14708.688634086608|  14697.269843036847| 11.14373483246168|441.85051096515684|78039.24723032395|\n",
      "|       E5| 16904.46068548387| 16904.46068548387|  16903.780241935485|27.270000000000298| 553.8342741935475|73670.65750504033|\n",
      "|       C5|15717.456501831502|15717.456501831502|  15716.766826923076| 16.90750228937778|471.31102220696084|74636.61886561356|\n",
      "|       G3|20830.208333333332|20830.208333333332|  20830.208333333332|30.889999999999997| 759.0212500000001|         84527.75|\n",
      "|       A4|16671.317394657504|16671.317394657504|  16670.812592021313| 7.976234312556977| 455.9836142466491|89164.14626796609|\n",
      "|       F4|15736.764705882353|15736.764705882353|  15736.764705882353| 30.65000000000001| 532.5444537815126|75349.75016806723|\n",
      "+---------+------------------+------------------+--------------------+------------------+------------------+-----------------+\n",
      "only showing top 20 rows\n",
      "\n"
     ]
    }
   ],
   "source": [
    "### Group By Departments which gives maximum\n",
    "df_pyspark.groupBy('sub_grade').mean().show()"
   ]
  },
  {
   "cell_type": "code",
   "execution_count": 32,
   "id": "94aba96e",
   "metadata": {},
   "outputs": [
    {
     "name": "stdout",
     "output_type": "stream",
     "text": [
      "+----------------+\n",
      "|sum(funded_amnt)|\n",
      "+----------------+\n",
      "|      3207960675|\n",
      "+----------------+\n",
      "\n"
     ]
    }
   ],
   "source": [
    "df_pyspark.agg({'funded_amnt':'sum'}).show()"
   ]
  }
 ],
 "metadata": {
  "kernelspec": {
   "display_name": "Python 3 (ipykernel)",
   "language": "python",
   "name": "python3"
  },
  "language_info": {
   "codemirror_mode": {
    "name": "ipython",
    "version": 3
   },
   "file_extension": ".py",
   "mimetype": "text/x-python",
   "name": "python",
   "nbconvert_exporter": "python",
   "pygments_lexer": "ipython3",
   "version": "3.8.11"
  },
  "toc": {
   "base_numbering": 1,
   "nav_menu": {},
   "number_sections": true,
   "sideBar": true,
   "skip_h1_title": false,
   "title_cell": "Table of Contents",
   "title_sidebar": "Contents",
   "toc_cell": false,
   "toc_position": {},
   "toc_section_display": true,
   "toc_window_display": false
  }
 },
 "nbformat": 4,
 "nbformat_minor": 5
}
