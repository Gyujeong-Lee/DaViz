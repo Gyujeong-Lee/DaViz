{
 "cells": [
  {
   "cell_type": "code",
   "execution_count": 1,
   "id": "54086749",
   "metadata": {},
   "outputs": [],
   "source": [
    "import warnings\n",
    "warnings.filterwarnings('ignore')\n",
    "\n",
    "import pandas as pd\n",
    "import numpy as np\n",
    "import matplotlib.pyplot as plt\n",
    "import seaborn as sns\n",
    "sns.set()\n",
    "\n",
    "from sklearn.linear_model import LinearRegression\n",
    "from sklearn.model_selection import train_test_split\n",
    "from xgboost import XGBClassifier\n",
    "from sklearn.metrics import mean_absolute_error\n",
    "from sklearn.metrics import mean_squared_error\n",
    "\n",
    "plt.rcParams['font.family'] = 'Malgun Gothic'\n",
    "\n",
    "import math"
   ]
  },
  {
   "cell_type": "code",
   "execution_count": 2,
   "id": "e8d82e62",
   "metadata": {},
   "outputs": [],
   "source": [
    "data = pd.read_csv('./sample_dataset.csv')"
   ]
  },
  {
   "cell_type": "code",
   "execution_count": 3,
   "id": "e8dbe14b",
   "metadata": {
    "collapsed": true
   },
   "outputs": [
    {
     "data": {
      "text/html": [
       "<div>\n",
       "<style scoped>\n",
       "    .dataframe tbody tr th:only-of-type {\n",
       "        vertical-align: middle;\n",
       "    }\n",
       "\n",
       "    .dataframe tbody tr th {\n",
       "        vertical-align: top;\n",
       "    }\n",
       "\n",
       "    .dataframe thead th {\n",
       "        text-align: right;\n",
       "    }\n",
       "</style>\n",
       "<table border=\"1\" class=\"dataframe\">\n",
       "  <thead>\n",
       "    <tr style=\"text-align: right;\">\n",
       "      <th></th>\n",
       "      <th>id</th>\n",
       "      <th>member_id</th>\n",
       "      <th>loan_amnt</th>\n",
       "      <th>funded_amnt</th>\n",
       "      <th>funded_amnt_inv</th>\n",
       "      <th>term</th>\n",
       "      <th>int_rate</th>\n",
       "      <th>installment</th>\n",
       "      <th>grade</th>\n",
       "      <th>sub_grade</th>\n",
       "      <th>...</th>\n",
       "      <th>hardship_payoff_balance_amount</th>\n",
       "      <th>hardship_last_payment_amount</th>\n",
       "      <th>disbursement_method</th>\n",
       "      <th>debt_settlement_flag</th>\n",
       "      <th>debt_settlement_flag_date</th>\n",
       "      <th>settlement_status</th>\n",
       "      <th>settlement_date</th>\n",
       "      <th>settlement_amount</th>\n",
       "      <th>settlement_percentage</th>\n",
       "      <th>settlement_term</th>\n",
       "    </tr>\n",
       "  </thead>\n",
       "  <tbody>\n",
       "    <tr>\n",
       "      <th>0</th>\n",
       "      <td>NaN</td>\n",
       "      <td>NaN</td>\n",
       "      <td>2500.0</td>\n",
       "      <td>2500.0</td>\n",
       "      <td>2500.0</td>\n",
       "      <td>36 months</td>\n",
       "      <td>13.56</td>\n",
       "      <td>84.92</td>\n",
       "      <td>C</td>\n",
       "      <td>C1</td>\n",
       "      <td>...</td>\n",
       "      <td>NaN</td>\n",
       "      <td>NaN</td>\n",
       "      <td>Cash</td>\n",
       "      <td>N</td>\n",
       "      <td>NaN</td>\n",
       "      <td>NaN</td>\n",
       "      <td>NaN</td>\n",
       "      <td>NaN</td>\n",
       "      <td>NaN</td>\n",
       "      <td>NaN</td>\n",
       "    </tr>\n",
       "    <tr>\n",
       "      <th>1</th>\n",
       "      <td>NaN</td>\n",
       "      <td>NaN</td>\n",
       "      <td>30000.0</td>\n",
       "      <td>30000.0</td>\n",
       "      <td>30000.0</td>\n",
       "      <td>60 months</td>\n",
       "      <td>18.94</td>\n",
       "      <td>777.23</td>\n",
       "      <td>D</td>\n",
       "      <td>D2</td>\n",
       "      <td>...</td>\n",
       "      <td>NaN</td>\n",
       "      <td>NaN</td>\n",
       "      <td>Cash</td>\n",
       "      <td>N</td>\n",
       "      <td>NaN</td>\n",
       "      <td>NaN</td>\n",
       "      <td>NaN</td>\n",
       "      <td>NaN</td>\n",
       "      <td>NaN</td>\n",
       "      <td>NaN</td>\n",
       "    </tr>\n",
       "    <tr>\n",
       "      <th>2</th>\n",
       "      <td>NaN</td>\n",
       "      <td>NaN</td>\n",
       "      <td>5000.0</td>\n",
       "      <td>5000.0</td>\n",
       "      <td>5000.0</td>\n",
       "      <td>36 months</td>\n",
       "      <td>17.97</td>\n",
       "      <td>180.69</td>\n",
       "      <td>D</td>\n",
       "      <td>D1</td>\n",
       "      <td>...</td>\n",
       "      <td>NaN</td>\n",
       "      <td>NaN</td>\n",
       "      <td>Cash</td>\n",
       "      <td>N</td>\n",
       "      <td>NaN</td>\n",
       "      <td>NaN</td>\n",
       "      <td>NaN</td>\n",
       "      <td>NaN</td>\n",
       "      <td>NaN</td>\n",
       "      <td>NaN</td>\n",
       "    </tr>\n",
       "    <tr>\n",
       "      <th>3</th>\n",
       "      <td>NaN</td>\n",
       "      <td>NaN</td>\n",
       "      <td>4000.0</td>\n",
       "      <td>4000.0</td>\n",
       "      <td>4000.0</td>\n",
       "      <td>36 months</td>\n",
       "      <td>18.94</td>\n",
       "      <td>146.51</td>\n",
       "      <td>D</td>\n",
       "      <td>D2</td>\n",
       "      <td>...</td>\n",
       "      <td>NaN</td>\n",
       "      <td>NaN</td>\n",
       "      <td>Cash</td>\n",
       "      <td>N</td>\n",
       "      <td>NaN</td>\n",
       "      <td>NaN</td>\n",
       "      <td>NaN</td>\n",
       "      <td>NaN</td>\n",
       "      <td>NaN</td>\n",
       "      <td>NaN</td>\n",
       "    </tr>\n",
       "    <tr>\n",
       "      <th>4</th>\n",
       "      <td>NaN</td>\n",
       "      <td>NaN</td>\n",
       "      <td>30000.0</td>\n",
       "      <td>30000.0</td>\n",
       "      <td>30000.0</td>\n",
       "      <td>60 months</td>\n",
       "      <td>16.14</td>\n",
       "      <td>731.78</td>\n",
       "      <td>C</td>\n",
       "      <td>C4</td>\n",
       "      <td>...</td>\n",
       "      <td>NaN</td>\n",
       "      <td>NaN</td>\n",
       "      <td>Cash</td>\n",
       "      <td>N</td>\n",
       "      <td>NaN</td>\n",
       "      <td>NaN</td>\n",
       "      <td>NaN</td>\n",
       "      <td>NaN</td>\n",
       "      <td>NaN</td>\n",
       "      <td>NaN</td>\n",
       "    </tr>\n",
       "  </tbody>\n",
       "</table>\n",
       "<p>5 rows × 145 columns</p>\n",
       "</div>"
      ],
      "text/plain": [
       "   id  member_id  loan_amnt  funded_amnt  funded_amnt_inv        term  \\\n",
       "0 NaN        NaN     2500.0       2500.0           2500.0   36 months   \n",
       "1 NaN        NaN    30000.0      30000.0          30000.0   60 months   \n",
       "2 NaN        NaN     5000.0       5000.0           5000.0   36 months   \n",
       "3 NaN        NaN     4000.0       4000.0           4000.0   36 months   \n",
       "4 NaN        NaN    30000.0      30000.0          30000.0   60 months   \n",
       "\n",
       "   int_rate  installment grade sub_grade  ... hardship_payoff_balance_amount  \\\n",
       "0     13.56        84.92     C        C1  ...                            NaN   \n",
       "1     18.94       777.23     D        D2  ...                            NaN   \n",
       "2     17.97       180.69     D        D1  ...                            NaN   \n",
       "3     18.94       146.51     D        D2  ...                            NaN   \n",
       "4     16.14       731.78     C        C4  ...                            NaN   \n",
       "\n",
       "  hardship_last_payment_amount disbursement_method  debt_settlement_flag  \\\n",
       "0                          NaN                Cash                     N   \n",
       "1                          NaN                Cash                     N   \n",
       "2                          NaN                Cash                     N   \n",
       "3                          NaN                Cash                     N   \n",
       "4                          NaN                Cash                     N   \n",
       "\n",
       "  debt_settlement_flag_date settlement_status settlement_date  \\\n",
       "0                       NaN               NaN             NaN   \n",
       "1                       NaN               NaN             NaN   \n",
       "2                       NaN               NaN             NaN   \n",
       "3                       NaN               NaN             NaN   \n",
       "4                       NaN               NaN             NaN   \n",
       "\n",
       "  settlement_amount  settlement_percentage  settlement_term  \n",
       "0               NaN                    NaN              NaN  \n",
       "1               NaN                    NaN              NaN  \n",
       "2               NaN                    NaN              NaN  \n",
       "3               NaN                    NaN              NaN  \n",
       "4               NaN                    NaN              NaN  \n",
       "\n",
       "[5 rows x 145 columns]"
      ]
     },
     "execution_count": 3,
     "metadata": {},
     "output_type": "execute_result"
    }
   ],
   "source": [
    "data.head()"
   ]
  },
  {
   "cell_type": "code",
   "execution_count": 4,
   "id": "59e45da1",
   "metadata": {},
   "outputs": [],
   "source": [
    "data.drop(columns=['id', 'member_id'], inplace=True)"
   ]
  },
  {
   "cell_type": "code",
   "execution_count": 6,
   "id": "8a0e8858",
   "metadata": {
    "collapsed": true
   },
   "outputs": [
    {
     "data": {
      "text/html": [
       "<div>\n",
       "<style scoped>\n",
       "    .dataframe tbody tr th:only-of-type {\n",
       "        vertical-align: middle;\n",
       "    }\n",
       "\n",
       "    .dataframe tbody tr th {\n",
       "        vertical-align: top;\n",
       "    }\n",
       "\n",
       "    .dataframe thead th {\n",
       "        text-align: right;\n",
       "    }\n",
       "</style>\n",
       "<table border=\"1\" class=\"dataframe\">\n",
       "  <thead>\n",
       "    <tr style=\"text-align: right;\">\n",
       "      <th></th>\n",
       "      <th>loan_amnt</th>\n",
       "      <th>funded_amnt</th>\n",
       "      <th>funded_amnt_inv</th>\n",
       "      <th>term</th>\n",
       "      <th>int_rate</th>\n",
       "      <th>installment</th>\n",
       "      <th>grade</th>\n",
       "      <th>sub_grade</th>\n",
       "      <th>emp_title</th>\n",
       "      <th>emp_length</th>\n",
       "      <th>...</th>\n",
       "      <th>hardship_payoff_balance_amount</th>\n",
       "      <th>hardship_last_payment_amount</th>\n",
       "      <th>disbursement_method</th>\n",
       "      <th>debt_settlement_flag</th>\n",
       "      <th>debt_settlement_flag_date</th>\n",
       "      <th>settlement_status</th>\n",
       "      <th>settlement_date</th>\n",
       "      <th>settlement_amount</th>\n",
       "      <th>settlement_percentage</th>\n",
       "      <th>settlement_term</th>\n",
       "    </tr>\n",
       "  </thead>\n",
       "  <tbody>\n",
       "    <tr>\n",
       "      <th>0</th>\n",
       "      <td>2500.0</td>\n",
       "      <td>2500.0</td>\n",
       "      <td>2500.0</td>\n",
       "      <td>36 months</td>\n",
       "      <td>13.56</td>\n",
       "      <td>84.92</td>\n",
       "      <td>C</td>\n",
       "      <td>C1</td>\n",
       "      <td>Chef</td>\n",
       "      <td>10+ years</td>\n",
       "      <td>...</td>\n",
       "      <td>NaN</td>\n",
       "      <td>NaN</td>\n",
       "      <td>Cash</td>\n",
       "      <td>N</td>\n",
       "      <td>NaN</td>\n",
       "      <td>NaN</td>\n",
       "      <td>NaN</td>\n",
       "      <td>NaN</td>\n",
       "      <td>NaN</td>\n",
       "      <td>NaN</td>\n",
       "    </tr>\n",
       "    <tr>\n",
       "      <th>1</th>\n",
       "      <td>30000.0</td>\n",
       "      <td>30000.0</td>\n",
       "      <td>30000.0</td>\n",
       "      <td>60 months</td>\n",
       "      <td>18.94</td>\n",
       "      <td>777.23</td>\n",
       "      <td>D</td>\n",
       "      <td>D2</td>\n",
       "      <td>Postmaster</td>\n",
       "      <td>10+ years</td>\n",
       "      <td>...</td>\n",
       "      <td>NaN</td>\n",
       "      <td>NaN</td>\n",
       "      <td>Cash</td>\n",
       "      <td>N</td>\n",
       "      <td>NaN</td>\n",
       "      <td>NaN</td>\n",
       "      <td>NaN</td>\n",
       "      <td>NaN</td>\n",
       "      <td>NaN</td>\n",
       "      <td>NaN</td>\n",
       "    </tr>\n",
       "    <tr>\n",
       "      <th>2</th>\n",
       "      <td>5000.0</td>\n",
       "      <td>5000.0</td>\n",
       "      <td>5000.0</td>\n",
       "      <td>36 months</td>\n",
       "      <td>17.97</td>\n",
       "      <td>180.69</td>\n",
       "      <td>D</td>\n",
       "      <td>D1</td>\n",
       "      <td>Administrative</td>\n",
       "      <td>6 years</td>\n",
       "      <td>...</td>\n",
       "      <td>NaN</td>\n",
       "      <td>NaN</td>\n",
       "      <td>Cash</td>\n",
       "      <td>N</td>\n",
       "      <td>NaN</td>\n",
       "      <td>NaN</td>\n",
       "      <td>NaN</td>\n",
       "      <td>NaN</td>\n",
       "      <td>NaN</td>\n",
       "      <td>NaN</td>\n",
       "    </tr>\n",
       "    <tr>\n",
       "      <th>3</th>\n",
       "      <td>4000.0</td>\n",
       "      <td>4000.0</td>\n",
       "      <td>4000.0</td>\n",
       "      <td>36 months</td>\n",
       "      <td>18.94</td>\n",
       "      <td>146.51</td>\n",
       "      <td>D</td>\n",
       "      <td>D2</td>\n",
       "      <td>IT Supervisor</td>\n",
       "      <td>10+ years</td>\n",
       "      <td>...</td>\n",
       "      <td>NaN</td>\n",
       "      <td>NaN</td>\n",
       "      <td>Cash</td>\n",
       "      <td>N</td>\n",
       "      <td>NaN</td>\n",
       "      <td>NaN</td>\n",
       "      <td>NaN</td>\n",
       "      <td>NaN</td>\n",
       "      <td>NaN</td>\n",
       "      <td>NaN</td>\n",
       "    </tr>\n",
       "    <tr>\n",
       "      <th>4</th>\n",
       "      <td>30000.0</td>\n",
       "      <td>30000.0</td>\n",
       "      <td>30000.0</td>\n",
       "      <td>60 months</td>\n",
       "      <td>16.14</td>\n",
       "      <td>731.78</td>\n",
       "      <td>C</td>\n",
       "      <td>C4</td>\n",
       "      <td>Mechanic</td>\n",
       "      <td>10+ years</td>\n",
       "      <td>...</td>\n",
       "      <td>NaN</td>\n",
       "      <td>NaN</td>\n",
       "      <td>Cash</td>\n",
       "      <td>N</td>\n",
       "      <td>NaN</td>\n",
       "      <td>NaN</td>\n",
       "      <td>NaN</td>\n",
       "      <td>NaN</td>\n",
       "      <td>NaN</td>\n",
       "      <td>NaN</td>\n",
       "    </tr>\n",
       "  </tbody>\n",
       "</table>\n",
       "<p>5 rows × 143 columns</p>\n",
       "</div>"
      ],
      "text/plain": [
       "   loan_amnt  funded_amnt  funded_amnt_inv        term  int_rate  installment  \\\n",
       "0     2500.0       2500.0           2500.0   36 months     13.56        84.92   \n",
       "1    30000.0      30000.0          30000.0   60 months     18.94       777.23   \n",
       "2     5000.0       5000.0           5000.0   36 months     17.97       180.69   \n",
       "3     4000.0       4000.0           4000.0   36 months     18.94       146.51   \n",
       "4    30000.0      30000.0          30000.0   60 months     16.14       731.78   \n",
       "\n",
       "  grade sub_grade       emp_title emp_length  ...  \\\n",
       "0     C        C1            Chef  10+ years  ...   \n",
       "1     D        D2     Postmaster   10+ years  ...   \n",
       "2     D        D1  Administrative    6 years  ...   \n",
       "3     D        D2   IT Supervisor  10+ years  ...   \n",
       "4     C        C4        Mechanic  10+ years  ...   \n",
       "\n",
       "  hardship_payoff_balance_amount  hardship_last_payment_amount  \\\n",
       "0                            NaN                           NaN   \n",
       "1                            NaN                           NaN   \n",
       "2                            NaN                           NaN   \n",
       "3                            NaN                           NaN   \n",
       "4                            NaN                           NaN   \n",
       "\n",
       "  disbursement_method debt_settlement_flag debt_settlement_flag_date  \\\n",
       "0                Cash                    N                       NaN   \n",
       "1                Cash                    N                       NaN   \n",
       "2                Cash                    N                       NaN   \n",
       "3                Cash                    N                       NaN   \n",
       "4                Cash                    N                       NaN   \n",
       "\n",
       "  settlement_status  settlement_date  settlement_amount settlement_percentage  \\\n",
       "0               NaN              NaN                NaN                   NaN   \n",
       "1               NaN              NaN                NaN                   NaN   \n",
       "2               NaN              NaN                NaN                   NaN   \n",
       "3               NaN              NaN                NaN                   NaN   \n",
       "4               NaN              NaN                NaN                   NaN   \n",
       "\n",
       "  settlement_term  \n",
       "0             NaN  \n",
       "1             NaN  \n",
       "2             NaN  \n",
       "3             NaN  \n",
       "4             NaN  \n",
       "\n",
       "[5 rows x 143 columns]"
      ]
     },
     "execution_count": 6,
     "metadata": {},
     "output_type": "execute_result"
    }
   ],
   "source": [
    "data.head()"
   ]
  },
  {
   "cell_type": "code",
   "execution_count": 7,
   "id": "548d606f",
   "metadata": {
    "collapsed": true
   },
   "outputs": [
    {
     "data": {
      "text/html": [
       "<div>\n",
       "<style scoped>\n",
       "    .dataframe tbody tr th:only-of-type {\n",
       "        vertical-align: middle;\n",
       "    }\n",
       "\n",
       "    .dataframe tbody tr th {\n",
       "        vertical-align: top;\n",
       "    }\n",
       "\n",
       "    .dataframe thead th {\n",
       "        text-align: right;\n",
       "    }\n",
       "</style>\n",
       "<table border=\"1\" class=\"dataframe\">\n",
       "  <thead>\n",
       "    <tr style=\"text-align: right;\">\n",
       "      <th></th>\n",
       "      <th>loan_amnt</th>\n",
       "      <th>funded_amnt</th>\n",
       "      <th>funded_amnt_inv</th>\n",
       "      <th>int_rate</th>\n",
       "      <th>installment</th>\n",
       "      <th>annual_inc</th>\n",
       "      <th>url</th>\n",
       "      <th>desc</th>\n",
       "      <th>dti</th>\n",
       "      <th>delinq_2yrs</th>\n",
       "      <th>...</th>\n",
       "      <th>deferral_term</th>\n",
       "      <th>hardship_amount</th>\n",
       "      <th>hardship_length</th>\n",
       "      <th>hardship_dpd</th>\n",
       "      <th>orig_projected_additional_accrued_interest</th>\n",
       "      <th>hardship_payoff_balance_amount</th>\n",
       "      <th>hardship_last_payment_amount</th>\n",
       "      <th>settlement_amount</th>\n",
       "      <th>settlement_percentage</th>\n",
       "      <th>settlement_term</th>\n",
       "    </tr>\n",
       "  </thead>\n",
       "  <tbody>\n",
       "    <tr>\n",
       "      <th>count</th>\n",
       "      <td>199999.000000</td>\n",
       "      <td>199999.000000</td>\n",
       "      <td>199999.000000</td>\n",
       "      <td>199999.000000</td>\n",
       "      <td>199999.000000</td>\n",
       "      <td>1.999990e+05</td>\n",
       "      <td>0.0</td>\n",
       "      <td>0.0</td>\n",
       "      <td>199607.000000</td>\n",
       "      <td>199999.000000</td>\n",
       "      <td>...</td>\n",
       "      <td>5.0</td>\n",
       "      <td>5.000000</td>\n",
       "      <td>5.0</td>\n",
       "      <td>5.000000</td>\n",
       "      <td>5.000000</td>\n",
       "      <td>5.000000</td>\n",
       "      <td>5.000000</td>\n",
       "      <td>6.000000</td>\n",
       "      <td>6.000000</td>\n",
       "      <td>6.0</td>\n",
       "    </tr>\n",
       "    <tr>\n",
       "      <th>mean</th>\n",
       "      <td>16039.883574</td>\n",
       "      <td>16039.883574</td>\n",
       "      <td>16036.981242</td>\n",
       "      <td>12.914751</td>\n",
       "      <td>466.006431</td>\n",
       "      <td>8.190613e+04</td>\n",
       "      <td>NaN</td>\n",
       "      <td>NaN</td>\n",
       "      <td>19.911201</td>\n",
       "      <td>0.227006</td>\n",
       "      <td>...</td>\n",
       "      <td>3.0</td>\n",
       "      <td>241.364000</td>\n",
       "      <td>3.0</td>\n",
       "      <td>4.400000</td>\n",
       "      <td>724.092000</td>\n",
       "      <td>19267.584000</td>\n",
       "      <td>337.378000</td>\n",
       "      <td>10140.833333</td>\n",
       "      <td>64.168333</td>\n",
       "      <td>18.0</td>\n",
       "    </tr>\n",
       "    <tr>\n",
       "      <th>std</th>\n",
       "      <td>10125.835675</td>\n",
       "      <td>10125.835675</td>\n",
       "      <td>10126.834884</td>\n",
       "      <td>5.181550</td>\n",
       "      <td>285.527001</td>\n",
       "      <td>9.964609e+04</td>\n",
       "      <td>NaN</td>\n",
       "      <td>NaN</td>\n",
       "      <td>19.835104</td>\n",
       "      <td>0.739661</td>\n",
       "      <td>...</td>\n",
       "      <td>0.0</td>\n",
       "      <td>129.603867</td>\n",
       "      <td>0.0</td>\n",
       "      <td>9.838699</td>\n",
       "      <td>388.811601</td>\n",
       "      <td>13069.848678</td>\n",
       "      <td>427.062095</td>\n",
       "      <td>7478.723833</td>\n",
       "      <td>2.042062</td>\n",
       "      <td>0.0</td>\n",
       "    </tr>\n",
       "    <tr>\n",
       "      <th>min</th>\n",
       "      <td>1000.000000</td>\n",
       "      <td>1000.000000</td>\n",
       "      <td>725.000000</td>\n",
       "      <td>6.000000</td>\n",
       "      <td>30.480000</td>\n",
       "      <td>0.000000e+00</td>\n",
       "      <td>NaN</td>\n",
       "      <td>NaN</td>\n",
       "      <td>0.000000</td>\n",
       "      <td>0.000000</td>\n",
       "      <td>...</td>\n",
       "      <td>3.0</td>\n",
       "      <td>119.590000</td>\n",
       "      <td>3.0</td>\n",
       "      <td>0.000000</td>\n",
       "      <td>358.770000</td>\n",
       "      <td>8096.800000</td>\n",
       "      <td>1.010000</td>\n",
       "      <td>3422.000000</td>\n",
       "      <td>60.000000</td>\n",
       "      <td>18.0</td>\n",
       "    </tr>\n",
       "    <tr>\n",
       "      <th>25%</th>\n",
       "      <td>8200.000000</td>\n",
       "      <td>8200.000000</td>\n",
       "      <td>8200.000000</td>\n",
       "      <td>8.460000</td>\n",
       "      <td>256.130000</td>\n",
       "      <td>4.700000e+04</td>\n",
       "      <td>NaN</td>\n",
       "      <td>NaN</td>\n",
       "      <td>11.730000</td>\n",
       "      <td>0.000000</td>\n",
       "      <td>...</td>\n",
       "      <td>3.0</td>\n",
       "      <td>126.270000</td>\n",
       "      <td>3.0</td>\n",
       "      <td>0.000000</td>\n",
       "      <td>378.810000</td>\n",
       "      <td>9649.700000</td>\n",
       "      <td>1.210000</td>\n",
       "      <td>5245.750000</td>\n",
       "      <td>65.000000</td>\n",
       "      <td>18.0</td>\n",
       "    </tr>\n",
       "    <tr>\n",
       "      <th>50%</th>\n",
       "      <td>14000.000000</td>\n",
       "      <td>14000.000000</td>\n",
       "      <td>14000.000000</td>\n",
       "      <td>11.800000</td>\n",
       "      <td>387.680000</td>\n",
       "      <td>6.800000e+04</td>\n",
       "      <td>NaN</td>\n",
       "      <td>NaN</td>\n",
       "      <td>17.960000</td>\n",
       "      <td>0.000000</td>\n",
       "      <td>...</td>\n",
       "      <td>3.0</td>\n",
       "      <td>203.670000</td>\n",
       "      <td>3.0</td>\n",
       "      <td>0.000000</td>\n",
       "      <td>611.010000</td>\n",
       "      <td>15351.850000</td>\n",
       "      <td>292.830000</td>\n",
       "      <td>7781.000000</td>\n",
       "      <td>65.000000</td>\n",
       "      <td>18.0</td>\n",
       "    </tr>\n",
       "    <tr>\n",
       "      <th>75%</th>\n",
       "      <td>22000.000000</td>\n",
       "      <td>22000.000000</td>\n",
       "      <td>22000.000000</td>\n",
       "      <td>16.140000</td>\n",
       "      <td>625.260000</td>\n",
       "      <td>9.800000e+04</td>\n",
       "      <td>NaN</td>\n",
       "      <td>NaN</td>\n",
       "      <td>25.265000</td>\n",
       "      <td>0.000000</td>\n",
       "      <td>...</td>\n",
       "      <td>3.0</td>\n",
       "      <td>378.390000</td>\n",
       "      <td>3.0</td>\n",
       "      <td>0.000000</td>\n",
       "      <td>1135.170000</td>\n",
       "      <td>23090.220000</td>\n",
       "      <td>346.430000</td>\n",
       "      <td>12411.000000</td>\n",
       "      <td>65.000000</td>\n",
       "      <td>18.0</td>\n",
       "    </tr>\n",
       "    <tr>\n",
       "      <th>max</th>\n",
       "      <td>40000.000000</td>\n",
       "      <td>40000.000000</td>\n",
       "      <td>40000.000000</td>\n",
       "      <td>30.990000</td>\n",
       "      <td>1618.240000</td>\n",
       "      <td>9.757200e+06</td>\n",
       "      <td>NaN</td>\n",
       "      <td>NaN</td>\n",
       "      <td>999.000000</td>\n",
       "      <td>58.000000</td>\n",
       "      <td>...</td>\n",
       "      <td>3.0</td>\n",
       "      <td>378.900000</td>\n",
       "      <td>3.0</td>\n",
       "      <td>22.000000</td>\n",
       "      <td>1136.700000</td>\n",
       "      <td>40149.350000</td>\n",
       "      <td>1045.410000</td>\n",
       "      <td>23506.000000</td>\n",
       "      <td>65.010000</td>\n",
       "      <td>18.0</td>\n",
       "    </tr>\n",
       "  </tbody>\n",
       "</table>\n",
       "<p>8 rows × 108 columns</p>\n",
       "</div>"
      ],
      "text/plain": [
       "           loan_amnt    funded_amnt  funded_amnt_inv       int_rate  \\\n",
       "count  199999.000000  199999.000000    199999.000000  199999.000000   \n",
       "mean    16039.883574   16039.883574     16036.981242      12.914751   \n",
       "std     10125.835675   10125.835675     10126.834884       5.181550   \n",
       "min      1000.000000    1000.000000       725.000000       6.000000   \n",
       "25%      8200.000000    8200.000000      8200.000000       8.460000   \n",
       "50%     14000.000000   14000.000000     14000.000000      11.800000   \n",
       "75%     22000.000000   22000.000000     22000.000000      16.140000   \n",
       "max     40000.000000   40000.000000     40000.000000      30.990000   \n",
       "\n",
       "         installment    annual_inc  url  desc            dti    delinq_2yrs  \\\n",
       "count  199999.000000  1.999990e+05  0.0   0.0  199607.000000  199999.000000   \n",
       "mean      466.006431  8.190613e+04  NaN   NaN      19.911201       0.227006   \n",
       "std       285.527001  9.964609e+04  NaN   NaN      19.835104       0.739661   \n",
       "min        30.480000  0.000000e+00  NaN   NaN       0.000000       0.000000   \n",
       "25%       256.130000  4.700000e+04  NaN   NaN      11.730000       0.000000   \n",
       "50%       387.680000  6.800000e+04  NaN   NaN      17.960000       0.000000   \n",
       "75%       625.260000  9.800000e+04  NaN   NaN      25.265000       0.000000   \n",
       "max      1618.240000  9.757200e+06  NaN   NaN     999.000000      58.000000   \n",
       "\n",
       "       ...  deferral_term  hardship_amount  hardship_length  hardship_dpd  \\\n",
       "count  ...            5.0         5.000000              5.0      5.000000   \n",
       "mean   ...            3.0       241.364000              3.0      4.400000   \n",
       "std    ...            0.0       129.603867              0.0      9.838699   \n",
       "min    ...            3.0       119.590000              3.0      0.000000   \n",
       "25%    ...            3.0       126.270000              3.0      0.000000   \n",
       "50%    ...            3.0       203.670000              3.0      0.000000   \n",
       "75%    ...            3.0       378.390000              3.0      0.000000   \n",
       "max    ...            3.0       378.900000              3.0     22.000000   \n",
       "\n",
       "       orig_projected_additional_accrued_interest  \\\n",
       "count                                    5.000000   \n",
       "mean                                   724.092000   \n",
       "std                                    388.811601   \n",
       "min                                    358.770000   \n",
       "25%                                    378.810000   \n",
       "50%                                    611.010000   \n",
       "75%                                   1135.170000   \n",
       "max                                   1136.700000   \n",
       "\n",
       "       hardship_payoff_balance_amount  hardship_last_payment_amount  \\\n",
       "count                        5.000000                      5.000000   \n",
       "mean                     19267.584000                    337.378000   \n",
       "std                      13069.848678                    427.062095   \n",
       "min                       8096.800000                      1.010000   \n",
       "25%                       9649.700000                      1.210000   \n",
       "50%                      15351.850000                    292.830000   \n",
       "75%                      23090.220000                    346.430000   \n",
       "max                      40149.350000                   1045.410000   \n",
       "\n",
       "       settlement_amount  settlement_percentage  settlement_term  \n",
       "count           6.000000               6.000000              6.0  \n",
       "mean        10140.833333              64.168333             18.0  \n",
       "std          7478.723833               2.042062              0.0  \n",
       "min          3422.000000              60.000000             18.0  \n",
       "25%          5245.750000              65.000000             18.0  \n",
       "50%          7781.000000              65.000000             18.0  \n",
       "75%         12411.000000              65.000000             18.0  \n",
       "max         23506.000000              65.010000             18.0  \n",
       "\n",
       "[8 rows x 108 columns]"
      ]
     },
     "execution_count": 7,
     "metadata": {},
     "output_type": "execute_result"
    }
   ],
   "source": [
    "data.describe()"
   ]
  },
  {
   "cell_type": "code",
   "execution_count": 5,
   "id": "84be0c3e",
   "metadata": {},
   "outputs": [],
   "source": [
    "data.drop(columns=['url', 'desc'], inplace=True)"
   ]
  },
  {
   "cell_type": "code",
   "execution_count": 8,
   "id": "b1645466",
   "metadata": {
    "collapsed": true
   },
   "outputs": [
    {
     "data": {
      "text/html": [
       "<div>\n",
       "<style scoped>\n",
       "    .dataframe tbody tr th:only-of-type {\n",
       "        vertical-align: middle;\n",
       "    }\n",
       "\n",
       "    .dataframe tbody tr th {\n",
       "        vertical-align: top;\n",
       "    }\n",
       "\n",
       "    .dataframe thead th {\n",
       "        text-align: right;\n",
       "    }\n",
       "</style>\n",
       "<table border=\"1\" class=\"dataframe\">\n",
       "  <thead>\n",
       "    <tr style=\"text-align: right;\">\n",
       "      <th></th>\n",
       "      <th>loan_amnt</th>\n",
       "      <th>funded_amnt</th>\n",
       "      <th>funded_amnt_inv</th>\n",
       "      <th>int_rate</th>\n",
       "      <th>installment</th>\n",
       "      <th>annual_inc</th>\n",
       "      <th>dti</th>\n",
       "      <th>delinq_2yrs</th>\n",
       "      <th>inq_last_6mths</th>\n",
       "      <th>mths_since_last_delinq</th>\n",
       "      <th>...</th>\n",
       "      <th>deferral_term</th>\n",
       "      <th>hardship_amount</th>\n",
       "      <th>hardship_length</th>\n",
       "      <th>hardship_dpd</th>\n",
       "      <th>orig_projected_additional_accrued_interest</th>\n",
       "      <th>hardship_payoff_balance_amount</th>\n",
       "      <th>hardship_last_payment_amount</th>\n",
       "      <th>settlement_amount</th>\n",
       "      <th>settlement_percentage</th>\n",
       "      <th>settlement_term</th>\n",
       "    </tr>\n",
       "  </thead>\n",
       "  <tbody>\n",
       "    <tr>\n",
       "      <th>count</th>\n",
       "      <td>199999.000000</td>\n",
       "      <td>199999.000000</td>\n",
       "      <td>199999.000000</td>\n",
       "      <td>199999.000000</td>\n",
       "      <td>199999.000000</td>\n",
       "      <td>1.999990e+05</td>\n",
       "      <td>199607.000000</td>\n",
       "      <td>199999.000000</td>\n",
       "      <td>199999.000000</td>\n",
       "      <td>87544.000000</td>\n",
       "      <td>...</td>\n",
       "      <td>5.0</td>\n",
       "      <td>5.000000</td>\n",
       "      <td>5.0</td>\n",
       "      <td>5.000000</td>\n",
       "      <td>5.000000</td>\n",
       "      <td>5.000000</td>\n",
       "      <td>5.000000</td>\n",
       "      <td>6.000000</td>\n",
       "      <td>6.000000</td>\n",
       "      <td>6.0</td>\n",
       "    </tr>\n",
       "    <tr>\n",
       "      <th>mean</th>\n",
       "      <td>16039.883574</td>\n",
       "      <td>16039.883574</td>\n",
       "      <td>16036.981242</td>\n",
       "      <td>12.914751</td>\n",
       "      <td>466.006431</td>\n",
       "      <td>8.190613e+04</td>\n",
       "      <td>19.911201</td>\n",
       "      <td>0.227006</td>\n",
       "      <td>0.437807</td>\n",
       "      <td>36.923650</td>\n",
       "      <td>...</td>\n",
       "      <td>3.0</td>\n",
       "      <td>241.364000</td>\n",
       "      <td>3.0</td>\n",
       "      <td>4.400000</td>\n",
       "      <td>724.092000</td>\n",
       "      <td>19267.584000</td>\n",
       "      <td>337.378000</td>\n",
       "      <td>10140.833333</td>\n",
       "      <td>64.168333</td>\n",
       "      <td>18.0</td>\n",
       "    </tr>\n",
       "    <tr>\n",
       "      <th>std</th>\n",
       "      <td>10125.835675</td>\n",
       "      <td>10125.835675</td>\n",
       "      <td>10126.834884</td>\n",
       "      <td>5.181550</td>\n",
       "      <td>285.527001</td>\n",
       "      <td>9.964609e+04</td>\n",
       "      <td>19.835104</td>\n",
       "      <td>0.739661</td>\n",
       "      <td>0.723986</td>\n",
       "      <td>21.839355</td>\n",
       "      <td>...</td>\n",
       "      <td>0.0</td>\n",
       "      <td>129.603867</td>\n",
       "      <td>0.0</td>\n",
       "      <td>9.838699</td>\n",
       "      <td>388.811601</td>\n",
       "      <td>13069.848678</td>\n",
       "      <td>427.062095</td>\n",
       "      <td>7478.723833</td>\n",
       "      <td>2.042062</td>\n",
       "      <td>0.0</td>\n",
       "    </tr>\n",
       "    <tr>\n",
       "      <th>min</th>\n",
       "      <td>1000.000000</td>\n",
       "      <td>1000.000000</td>\n",
       "      <td>725.000000</td>\n",
       "      <td>6.000000</td>\n",
       "      <td>30.480000</td>\n",
       "      <td>0.000000e+00</td>\n",
       "      <td>0.000000</td>\n",
       "      <td>0.000000</td>\n",
       "      <td>0.000000</td>\n",
       "      <td>0.000000</td>\n",
       "      <td>...</td>\n",
       "      <td>3.0</td>\n",
       "      <td>119.590000</td>\n",
       "      <td>3.0</td>\n",
       "      <td>0.000000</td>\n",
       "      <td>358.770000</td>\n",
       "      <td>8096.800000</td>\n",
       "      <td>1.010000</td>\n",
       "      <td>3422.000000</td>\n",
       "      <td>60.000000</td>\n",
       "      <td>18.0</td>\n",
       "    </tr>\n",
       "    <tr>\n",
       "      <th>25%</th>\n",
       "      <td>8200.000000</td>\n",
       "      <td>8200.000000</td>\n",
       "      <td>8200.000000</td>\n",
       "      <td>8.460000</td>\n",
       "      <td>256.130000</td>\n",
       "      <td>4.700000e+04</td>\n",
       "      <td>11.730000</td>\n",
       "      <td>0.000000</td>\n",
       "      <td>0.000000</td>\n",
       "      <td>19.000000</td>\n",
       "      <td>...</td>\n",
       "      <td>3.0</td>\n",
       "      <td>126.270000</td>\n",
       "      <td>3.0</td>\n",
       "      <td>0.000000</td>\n",
       "      <td>378.810000</td>\n",
       "      <td>9649.700000</td>\n",
       "      <td>1.210000</td>\n",
       "      <td>5245.750000</td>\n",
       "      <td>65.000000</td>\n",
       "      <td>18.0</td>\n",
       "    </tr>\n",
       "    <tr>\n",
       "      <th>50%</th>\n",
       "      <td>14000.000000</td>\n",
       "      <td>14000.000000</td>\n",
       "      <td>14000.000000</td>\n",
       "      <td>11.800000</td>\n",
       "      <td>387.680000</td>\n",
       "      <td>6.800000e+04</td>\n",
       "      <td>17.960000</td>\n",
       "      <td>0.000000</td>\n",
       "      <td>0.000000</td>\n",
       "      <td>34.000000</td>\n",
       "      <td>...</td>\n",
       "      <td>3.0</td>\n",
       "      <td>203.670000</td>\n",
       "      <td>3.0</td>\n",
       "      <td>0.000000</td>\n",
       "      <td>611.010000</td>\n",
       "      <td>15351.850000</td>\n",
       "      <td>292.830000</td>\n",
       "      <td>7781.000000</td>\n",
       "      <td>65.000000</td>\n",
       "      <td>18.0</td>\n",
       "    </tr>\n",
       "    <tr>\n",
       "      <th>75%</th>\n",
       "      <td>22000.000000</td>\n",
       "      <td>22000.000000</td>\n",
       "      <td>22000.000000</td>\n",
       "      <td>16.140000</td>\n",
       "      <td>625.260000</td>\n",
       "      <td>9.800000e+04</td>\n",
       "      <td>25.265000</td>\n",
       "      <td>0.000000</td>\n",
       "      <td>1.000000</td>\n",
       "      <td>53.000000</td>\n",
       "      <td>...</td>\n",
       "      <td>3.0</td>\n",
       "      <td>378.390000</td>\n",
       "      <td>3.0</td>\n",
       "      <td>0.000000</td>\n",
       "      <td>1135.170000</td>\n",
       "      <td>23090.220000</td>\n",
       "      <td>346.430000</td>\n",
       "      <td>12411.000000</td>\n",
       "      <td>65.000000</td>\n",
       "      <td>18.0</td>\n",
       "    </tr>\n",
       "    <tr>\n",
       "      <th>max</th>\n",
       "      <td>40000.000000</td>\n",
       "      <td>40000.000000</td>\n",
       "      <td>40000.000000</td>\n",
       "      <td>30.990000</td>\n",
       "      <td>1618.240000</td>\n",
       "      <td>9.757200e+06</td>\n",
       "      <td>999.000000</td>\n",
       "      <td>58.000000</td>\n",
       "      <td>5.000000</td>\n",
       "      <td>179.000000</td>\n",
       "      <td>...</td>\n",
       "      <td>3.0</td>\n",
       "      <td>378.900000</td>\n",
       "      <td>3.0</td>\n",
       "      <td>22.000000</td>\n",
       "      <td>1136.700000</td>\n",
       "      <td>40149.350000</td>\n",
       "      <td>1045.410000</td>\n",
       "      <td>23506.000000</td>\n",
       "      <td>65.010000</td>\n",
       "      <td>18.0</td>\n",
       "    </tr>\n",
       "  </tbody>\n",
       "</table>\n",
       "<p>8 rows × 106 columns</p>\n",
       "</div>"
      ],
      "text/plain": [
       "           loan_amnt    funded_amnt  funded_amnt_inv       int_rate  \\\n",
       "count  199999.000000  199999.000000    199999.000000  199999.000000   \n",
       "mean    16039.883574   16039.883574     16036.981242      12.914751   \n",
       "std     10125.835675   10125.835675     10126.834884       5.181550   \n",
       "min      1000.000000    1000.000000       725.000000       6.000000   \n",
       "25%      8200.000000    8200.000000      8200.000000       8.460000   \n",
       "50%     14000.000000   14000.000000     14000.000000      11.800000   \n",
       "75%     22000.000000   22000.000000     22000.000000      16.140000   \n",
       "max     40000.000000   40000.000000     40000.000000      30.990000   \n",
       "\n",
       "         installment    annual_inc            dti    delinq_2yrs  \\\n",
       "count  199999.000000  1.999990e+05  199607.000000  199999.000000   \n",
       "mean      466.006431  8.190613e+04      19.911201       0.227006   \n",
       "std       285.527001  9.964609e+04      19.835104       0.739661   \n",
       "min        30.480000  0.000000e+00       0.000000       0.000000   \n",
       "25%       256.130000  4.700000e+04      11.730000       0.000000   \n",
       "50%       387.680000  6.800000e+04      17.960000       0.000000   \n",
       "75%       625.260000  9.800000e+04      25.265000       0.000000   \n",
       "max      1618.240000  9.757200e+06     999.000000      58.000000   \n",
       "\n",
       "       inq_last_6mths  mths_since_last_delinq  ...  deferral_term  \\\n",
       "count   199999.000000            87544.000000  ...            5.0   \n",
       "mean         0.437807               36.923650  ...            3.0   \n",
       "std          0.723986               21.839355  ...            0.0   \n",
       "min          0.000000                0.000000  ...            3.0   \n",
       "25%          0.000000               19.000000  ...            3.0   \n",
       "50%          0.000000               34.000000  ...            3.0   \n",
       "75%          1.000000               53.000000  ...            3.0   \n",
       "max          5.000000              179.000000  ...            3.0   \n",
       "\n",
       "       hardship_amount  hardship_length  hardship_dpd  \\\n",
       "count         5.000000              5.0      5.000000   \n",
       "mean        241.364000              3.0      4.400000   \n",
       "std         129.603867              0.0      9.838699   \n",
       "min         119.590000              3.0      0.000000   \n",
       "25%         126.270000              3.0      0.000000   \n",
       "50%         203.670000              3.0      0.000000   \n",
       "75%         378.390000              3.0      0.000000   \n",
       "max         378.900000              3.0     22.000000   \n",
       "\n",
       "       orig_projected_additional_accrued_interest  \\\n",
       "count                                    5.000000   \n",
       "mean                                   724.092000   \n",
       "std                                    388.811601   \n",
       "min                                    358.770000   \n",
       "25%                                    378.810000   \n",
       "50%                                    611.010000   \n",
       "75%                                   1135.170000   \n",
       "max                                   1136.700000   \n",
       "\n",
       "       hardship_payoff_balance_amount  hardship_last_payment_amount  \\\n",
       "count                        5.000000                      5.000000   \n",
       "mean                     19267.584000                    337.378000   \n",
       "std                      13069.848678                    427.062095   \n",
       "min                       8096.800000                      1.010000   \n",
       "25%                       9649.700000                      1.210000   \n",
       "50%                      15351.850000                    292.830000   \n",
       "75%                      23090.220000                    346.430000   \n",
       "max                      40149.350000                   1045.410000   \n",
       "\n",
       "       settlement_amount  settlement_percentage  settlement_term  \n",
       "count           6.000000               6.000000              6.0  \n",
       "mean        10140.833333              64.168333             18.0  \n",
       "std          7478.723833               2.042062              0.0  \n",
       "min          3422.000000              60.000000             18.0  \n",
       "25%          5245.750000              65.000000             18.0  \n",
       "50%          7781.000000              65.000000             18.0  \n",
       "75%         12411.000000              65.000000             18.0  \n",
       "max         23506.000000              65.010000             18.0  \n",
       "\n",
       "[8 rows x 106 columns]"
      ]
     },
     "execution_count": 8,
     "metadata": {},
     "output_type": "execute_result"
    }
   ],
   "source": [
    "data.describe()"
   ]
  },
  {
   "cell_type": "code",
   "execution_count": 7,
   "id": "9d942098",
   "metadata": {},
   "outputs": [],
   "source": [
    "data = data.iloc[:199999]"
   ]
  },
  {
   "cell_type": "code",
   "execution_count": 9,
   "id": "73170600",
   "metadata": {},
   "outputs": [
    {
     "data": {
      "text/plain": [
       "loan_amnt                     0\n",
       "funded_amnt                   0\n",
       "funded_amnt_inv               0\n",
       "term                          0\n",
       "int_rate                      0\n",
       "                          ...  \n",
       "settlement_status        199993\n",
       "settlement_date          199993\n",
       "settlement_amount        199993\n",
       "settlement_percentage    199993\n",
       "settlement_term          199993\n",
       "Length: 141, dtype: int64"
      ]
     },
     "execution_count": 9,
     "metadata": {},
     "output_type": "execute_result"
    }
   ],
   "source": [
    "data.isna().sum()"
   ]
  },
  {
   "cell_type": "code",
   "execution_count": 10,
   "id": "18f21db9",
   "metadata": {},
   "outputs": [
    {
     "data": {
      "text/plain": [
       "(199999, 141)"
      ]
     },
     "execution_count": 10,
     "metadata": {},
     "output_type": "execute_result"
    }
   ],
   "source": [
    "data.shape"
   ]
  },
  {
   "cell_type": "code",
   "execution_count": 11,
   "id": "81ca467d",
   "metadata": {},
   "outputs": [
    {
     "data": {
      "text/html": [
       "<div>\n",
       "<style scoped>\n",
       "    .dataframe tbody tr th:only-of-type {\n",
       "        vertical-align: middle;\n",
       "    }\n",
       "\n",
       "    .dataframe tbody tr th {\n",
       "        vertical-align: top;\n",
       "    }\n",
       "\n",
       "    .dataframe thead th {\n",
       "        text-align: right;\n",
       "    }\n",
       "</style>\n",
       "<table border=\"1\" class=\"dataframe\">\n",
       "  <thead>\n",
       "    <tr style=\"text-align: right;\">\n",
       "      <th></th>\n",
       "      <th>loan_amnt</th>\n",
       "      <th>funded_amnt</th>\n",
       "      <th>funded_amnt_inv</th>\n",
       "      <th>int_rate</th>\n",
       "      <th>installment</th>\n",
       "      <th>annual_inc</th>\n",
       "      <th>dti</th>\n",
       "      <th>delinq_2yrs</th>\n",
       "      <th>inq_last_6mths</th>\n",
       "      <th>mths_since_last_delinq</th>\n",
       "      <th>...</th>\n",
       "      <th>deferral_term</th>\n",
       "      <th>hardship_amount</th>\n",
       "      <th>hardship_length</th>\n",
       "      <th>hardship_dpd</th>\n",
       "      <th>orig_projected_additional_accrued_interest</th>\n",
       "      <th>hardship_payoff_balance_amount</th>\n",
       "      <th>hardship_last_payment_amount</th>\n",
       "      <th>settlement_amount</th>\n",
       "      <th>settlement_percentage</th>\n",
       "      <th>settlement_term</th>\n",
       "    </tr>\n",
       "  </thead>\n",
       "  <tbody>\n",
       "    <tr>\n",
       "      <th>count</th>\n",
       "      <td>199999.000000</td>\n",
       "      <td>199999.000000</td>\n",
       "      <td>199999.000000</td>\n",
       "      <td>199999.000000</td>\n",
       "      <td>199999.000000</td>\n",
       "      <td>1.999990e+05</td>\n",
       "      <td>199607.000000</td>\n",
       "      <td>199999.000000</td>\n",
       "      <td>199999.000000</td>\n",
       "      <td>87544.000000</td>\n",
       "      <td>...</td>\n",
       "      <td>5.0</td>\n",
       "      <td>5.000000</td>\n",
       "      <td>5.0</td>\n",
       "      <td>5.000000</td>\n",
       "      <td>5.000000</td>\n",
       "      <td>5.000000</td>\n",
       "      <td>5.000000</td>\n",
       "      <td>6.000000</td>\n",
       "      <td>6.000000</td>\n",
       "      <td>6.0</td>\n",
       "    </tr>\n",
       "    <tr>\n",
       "      <th>mean</th>\n",
       "      <td>16039.883574</td>\n",
       "      <td>16039.883574</td>\n",
       "      <td>16036.981242</td>\n",
       "      <td>12.914751</td>\n",
       "      <td>466.006431</td>\n",
       "      <td>8.190613e+04</td>\n",
       "      <td>19.911201</td>\n",
       "      <td>0.227006</td>\n",
       "      <td>0.437807</td>\n",
       "      <td>36.923650</td>\n",
       "      <td>...</td>\n",
       "      <td>3.0</td>\n",
       "      <td>241.364000</td>\n",
       "      <td>3.0</td>\n",
       "      <td>4.400000</td>\n",
       "      <td>724.092000</td>\n",
       "      <td>19267.584000</td>\n",
       "      <td>337.378000</td>\n",
       "      <td>10140.833333</td>\n",
       "      <td>64.168333</td>\n",
       "      <td>18.0</td>\n",
       "    </tr>\n",
       "    <tr>\n",
       "      <th>std</th>\n",
       "      <td>10125.835675</td>\n",
       "      <td>10125.835675</td>\n",
       "      <td>10126.834884</td>\n",
       "      <td>5.181550</td>\n",
       "      <td>285.527001</td>\n",
       "      <td>9.964609e+04</td>\n",
       "      <td>19.835104</td>\n",
       "      <td>0.739661</td>\n",
       "      <td>0.723986</td>\n",
       "      <td>21.839355</td>\n",
       "      <td>...</td>\n",
       "      <td>0.0</td>\n",
       "      <td>129.603867</td>\n",
       "      <td>0.0</td>\n",
       "      <td>9.838699</td>\n",
       "      <td>388.811601</td>\n",
       "      <td>13069.848678</td>\n",
       "      <td>427.062095</td>\n",
       "      <td>7478.723833</td>\n",
       "      <td>2.042062</td>\n",
       "      <td>0.0</td>\n",
       "    </tr>\n",
       "    <tr>\n",
       "      <th>min</th>\n",
       "      <td>1000.000000</td>\n",
       "      <td>1000.000000</td>\n",
       "      <td>725.000000</td>\n",
       "      <td>6.000000</td>\n",
       "      <td>30.480000</td>\n",
       "      <td>0.000000e+00</td>\n",
       "      <td>0.000000</td>\n",
       "      <td>0.000000</td>\n",
       "      <td>0.000000</td>\n",
       "      <td>0.000000</td>\n",
       "      <td>...</td>\n",
       "      <td>3.0</td>\n",
       "      <td>119.590000</td>\n",
       "      <td>3.0</td>\n",
       "      <td>0.000000</td>\n",
       "      <td>358.770000</td>\n",
       "      <td>8096.800000</td>\n",
       "      <td>1.010000</td>\n",
       "      <td>3422.000000</td>\n",
       "      <td>60.000000</td>\n",
       "      <td>18.0</td>\n",
       "    </tr>\n",
       "    <tr>\n",
       "      <th>25%</th>\n",
       "      <td>8200.000000</td>\n",
       "      <td>8200.000000</td>\n",
       "      <td>8200.000000</td>\n",
       "      <td>8.460000</td>\n",
       "      <td>256.130000</td>\n",
       "      <td>4.700000e+04</td>\n",
       "      <td>11.730000</td>\n",
       "      <td>0.000000</td>\n",
       "      <td>0.000000</td>\n",
       "      <td>19.000000</td>\n",
       "      <td>...</td>\n",
       "      <td>3.0</td>\n",
       "      <td>126.270000</td>\n",
       "      <td>3.0</td>\n",
       "      <td>0.000000</td>\n",
       "      <td>378.810000</td>\n",
       "      <td>9649.700000</td>\n",
       "      <td>1.210000</td>\n",
       "      <td>5245.750000</td>\n",
       "      <td>65.000000</td>\n",
       "      <td>18.0</td>\n",
       "    </tr>\n",
       "    <tr>\n",
       "      <th>50%</th>\n",
       "      <td>14000.000000</td>\n",
       "      <td>14000.000000</td>\n",
       "      <td>14000.000000</td>\n",
       "      <td>11.800000</td>\n",
       "      <td>387.680000</td>\n",
       "      <td>6.800000e+04</td>\n",
       "      <td>17.960000</td>\n",
       "      <td>0.000000</td>\n",
       "      <td>0.000000</td>\n",
       "      <td>34.000000</td>\n",
       "      <td>...</td>\n",
       "      <td>3.0</td>\n",
       "      <td>203.670000</td>\n",
       "      <td>3.0</td>\n",
       "      <td>0.000000</td>\n",
       "      <td>611.010000</td>\n",
       "      <td>15351.850000</td>\n",
       "      <td>292.830000</td>\n",
       "      <td>7781.000000</td>\n",
       "      <td>65.000000</td>\n",
       "      <td>18.0</td>\n",
       "    </tr>\n",
       "    <tr>\n",
       "      <th>75%</th>\n",
       "      <td>22000.000000</td>\n",
       "      <td>22000.000000</td>\n",
       "      <td>22000.000000</td>\n",
       "      <td>16.140000</td>\n",
       "      <td>625.260000</td>\n",
       "      <td>9.800000e+04</td>\n",
       "      <td>25.265000</td>\n",
       "      <td>0.000000</td>\n",
       "      <td>1.000000</td>\n",
       "      <td>53.000000</td>\n",
       "      <td>...</td>\n",
       "      <td>3.0</td>\n",
       "      <td>378.390000</td>\n",
       "      <td>3.0</td>\n",
       "      <td>0.000000</td>\n",
       "      <td>1135.170000</td>\n",
       "      <td>23090.220000</td>\n",
       "      <td>346.430000</td>\n",
       "      <td>12411.000000</td>\n",
       "      <td>65.000000</td>\n",
       "      <td>18.0</td>\n",
       "    </tr>\n",
       "    <tr>\n",
       "      <th>max</th>\n",
       "      <td>40000.000000</td>\n",
       "      <td>40000.000000</td>\n",
       "      <td>40000.000000</td>\n",
       "      <td>30.990000</td>\n",
       "      <td>1618.240000</td>\n",
       "      <td>9.757200e+06</td>\n",
       "      <td>999.000000</td>\n",
       "      <td>58.000000</td>\n",
       "      <td>5.000000</td>\n",
       "      <td>179.000000</td>\n",
       "      <td>...</td>\n",
       "      <td>3.0</td>\n",
       "      <td>378.900000</td>\n",
       "      <td>3.0</td>\n",
       "      <td>22.000000</td>\n",
       "      <td>1136.700000</td>\n",
       "      <td>40149.350000</td>\n",
       "      <td>1045.410000</td>\n",
       "      <td>23506.000000</td>\n",
       "      <td>65.010000</td>\n",
       "      <td>18.0</td>\n",
       "    </tr>\n",
       "  </tbody>\n",
       "</table>\n",
       "<p>8 rows × 106 columns</p>\n",
       "</div>"
      ],
      "text/plain": [
       "           loan_amnt    funded_amnt  funded_amnt_inv       int_rate  \\\n",
       "count  199999.000000  199999.000000    199999.000000  199999.000000   \n",
       "mean    16039.883574   16039.883574     16036.981242      12.914751   \n",
       "std     10125.835675   10125.835675     10126.834884       5.181550   \n",
       "min      1000.000000    1000.000000       725.000000       6.000000   \n",
       "25%      8200.000000    8200.000000      8200.000000       8.460000   \n",
       "50%     14000.000000   14000.000000     14000.000000      11.800000   \n",
       "75%     22000.000000   22000.000000     22000.000000      16.140000   \n",
       "max     40000.000000   40000.000000     40000.000000      30.990000   \n",
       "\n",
       "         installment    annual_inc            dti    delinq_2yrs  \\\n",
       "count  199999.000000  1.999990e+05  199607.000000  199999.000000   \n",
       "mean      466.006431  8.190613e+04      19.911201       0.227006   \n",
       "std       285.527001  9.964609e+04      19.835104       0.739661   \n",
       "min        30.480000  0.000000e+00       0.000000       0.000000   \n",
       "25%       256.130000  4.700000e+04      11.730000       0.000000   \n",
       "50%       387.680000  6.800000e+04      17.960000       0.000000   \n",
       "75%       625.260000  9.800000e+04      25.265000       0.000000   \n",
       "max      1618.240000  9.757200e+06     999.000000      58.000000   \n",
       "\n",
       "       inq_last_6mths  mths_since_last_delinq  ...  deferral_term  \\\n",
       "count   199999.000000            87544.000000  ...            5.0   \n",
       "mean         0.437807               36.923650  ...            3.0   \n",
       "std          0.723986               21.839355  ...            0.0   \n",
       "min          0.000000                0.000000  ...            3.0   \n",
       "25%          0.000000               19.000000  ...            3.0   \n",
       "50%          0.000000               34.000000  ...            3.0   \n",
       "75%          1.000000               53.000000  ...            3.0   \n",
       "max          5.000000              179.000000  ...            3.0   \n",
       "\n",
       "       hardship_amount  hardship_length  hardship_dpd  \\\n",
       "count         5.000000              5.0      5.000000   \n",
       "mean        241.364000              3.0      4.400000   \n",
       "std         129.603867              0.0      9.838699   \n",
       "min         119.590000              3.0      0.000000   \n",
       "25%         126.270000              3.0      0.000000   \n",
       "50%         203.670000              3.0      0.000000   \n",
       "75%         378.390000              3.0      0.000000   \n",
       "max         378.900000              3.0     22.000000   \n",
       "\n",
       "       orig_projected_additional_accrued_interest  \\\n",
       "count                                    5.000000   \n",
       "mean                                   724.092000   \n",
       "std                                    388.811601   \n",
       "min                                    358.770000   \n",
       "25%                                    378.810000   \n",
       "50%                                    611.010000   \n",
       "75%                                   1135.170000   \n",
       "max                                   1136.700000   \n",
       "\n",
       "       hardship_payoff_balance_amount  hardship_last_payment_amount  \\\n",
       "count                        5.000000                      5.000000   \n",
       "mean                     19267.584000                    337.378000   \n",
       "std                      13069.848678                    427.062095   \n",
       "min                       8096.800000                      1.010000   \n",
       "25%                       9649.700000                      1.210000   \n",
       "50%                      15351.850000                    292.830000   \n",
       "75%                      23090.220000                    346.430000   \n",
       "max                      40149.350000                   1045.410000   \n",
       "\n",
       "       settlement_amount  settlement_percentage  settlement_term  \n",
       "count           6.000000               6.000000              6.0  \n",
       "mean        10140.833333              64.168333             18.0  \n",
       "std          7478.723833               2.042062              0.0  \n",
       "min          3422.000000              60.000000             18.0  \n",
       "25%          5245.750000              65.000000             18.0  \n",
       "50%          7781.000000              65.000000             18.0  \n",
       "75%         12411.000000              65.000000             18.0  \n",
       "max         23506.000000              65.010000             18.0  \n",
       "\n",
       "[8 rows x 106 columns]"
      ]
     },
     "execution_count": 11,
     "metadata": {},
     "output_type": "execute_result"
    }
   ],
   "source": [
    "data.describe()"
   ]
  },
  {
   "cell_type": "code",
   "execution_count": 97,
   "id": "46bb82a2",
   "metadata": {},
   "outputs": [],
   "source": [
    "data_dti = data['dti']"
   ]
  },
  {
   "cell_type": "code",
   "execution_count": 23,
   "id": "20f5e9cc",
   "metadata": {},
   "outputs": [
    {
     "data": {
      "image/png": "[encoded data removed]",
      "text/plain": [
       "<Figure size 432x288 with 1 Axes>"
      ]
     },
     "metadata": {},
     "output_type": "display_data"
    }
   ],
   "source": [
    "plt.hist(data_dti, bins=200)\n",
    "plt.xlim([0, 100])\n",
    "# plt.xlim([900, 1000])\n",
    "# plt.ylim([0, 100])\n",
    "plt.show()"
   ]
  },
  {
   "cell_type": "code",
   "execution_count": 39,
   "id": "98f96261",
   "metadata": {
    "collapsed": true
   },
   "outputs": [
    {
     "data": {
      "text/plain": [
       "<AxesSubplot:>"
      ]
     },
     "execution_count": 39,
     "metadata": {},
     "output_type": "execute_result"
    },
    {
     "data": {
      "image/png": "[encoded data removed]",
      "text/plain": [
       "<Figure size 720x2160 with 1 Axes>"
      ]
     },
     "metadata": {},
     "output_type": "display_data"
    }
   ],
   "source": [
    "figure = plt.figure(figsize=(10, 30))\n",
    "# plt.rcParams.update({'font.size': 22})\n",
    "plt.ylim(0, 200)\n",
    "sns.boxplot(data=data_dti)"
   ]
  },
  {
   "cell_type": "code",
   "execution_count": 15,
   "id": "4ac36d6a",
   "metadata": {},
   "outputs": [
    {
     "data": {
      "image/png": "[encoded data removed]",
      "text/plain": [
       "<Figure size 432x288 with 1 Axes>"
      ]
     },
     "metadata": {},
     "output_type": "display_data"
    }
   ],
   "source": [
    "plt.hist(np.sqrt(data['installment']), bins=100)\n",
    "# plt.xlim([0, 100])\n",
    "# plt.xlim([900, 1000])\n",
    "# plt.ylim([0, 100])\n",
    "plt.show()"
   ]
  },
  {
   "cell_type": "code",
   "execution_count": 18,
   "id": "f932cf66",
   "metadata": {},
   "outputs": [
    {
     "data": {
      "text/plain": [
       "0.2862031627045541"
      ]
     },
     "execution_count": 18,
     "metadata": {},
     "output_type": "execute_result"
    }
   ],
   "source": [
    "np.sqrt(data['installment']).skew()"
   ]
  },
  {
   "cell_type": "code",
   "execution_count": 22,
   "id": "5e51b00f",
   "metadata": {},
   "outputs": [
    {
     "data": {
      "text/plain": [
       "0.9498354231537218"
      ]
     },
     "execution_count": 22,
     "metadata": {},
     "output_type": "execute_result"
    }
   ],
   "source": [
    "data['installment'].skew()"
   ]
  },
  {
   "cell_type": "code",
   "execution_count": 25,
   "id": "48b74d63",
   "metadata": {},
   "outputs": [
    {
     "data": {
      "image/png": "[encoded data removed]",
      "text/plain": [
       "<Figure size 432x288 with 1 Axes>"
      ]
     },
     "metadata": {},
     "output_type": "display_data"
    }
   ],
   "source": [
    "plt.hist(data['int_rate'], bins=100)\n",
    "# plt.xlim([0, 100])\n",
    "# plt.xlim([900, 1000])\n",
    "# plt.ylim([0, 100])\n",
    "plt.show()"
   ]
  },
  {
   "cell_type": "code",
   "execution_count": 26,
   "id": "0a2fce9a",
   "metadata": {},
   "outputs": [
    {
     "data": {
      "text/plain": [
       "0.8058507798218391"
      ]
     },
     "execution_count": 26,
     "metadata": {},
     "output_type": "execute_result"
    }
   ],
   "source": [
    "data['int_rate'].skew()"
   ]
  },
  {
   "cell_type": "code",
   "execution_count": null,
   "id": "a5704e26",
   "metadata": {},
   "outputs": [],
   "source": []
  },
  {
   "cell_type": "markdown",
   "id": "0183468b",
   "metadata": {},
   "source": [
    "# 이상치 걸러보기"
   ]
  },
  {
   "cell_type": "code",
   "execution_count": 27,
   "id": "ebeecab0",
   "metadata": {},
   "outputs": [],
   "source": [
    "import scipy.stats as ss"
   ]
  },
  {
   "cell_type": "code",
   "execution_count": 33,
   "id": "9e328e62",
   "metadata": {},
   "outputs": [
    {
     "data": {
      "text/plain": [
       "0         18.24\n",
       "1         26.52\n",
       "2         10.51\n",
       "3         16.74\n",
       "4         26.35\n",
       "          ...  \n",
       "199994    27.13\n",
       "199995     6.63\n",
       "199996    13.97\n",
       "199997     6.64\n",
       "199998    13.59\n",
       "Name: dti, Length: 199999, dtype: float64"
      ]
     },
     "execution_count": 33,
     "metadata": {},
     "output_type": "execute_result"
    }
   ],
   "source": [
    "data_dti"
   ]
  },
  {
   "cell_type": "code",
   "execution_count": null,
   "id": "d789bda8",
   "metadata": {},
   "outputs": [],
   "source": []
  },
  {
   "cell_type": "code",
   "execution_count": null,
   "id": "906d5230",
   "metadata": {},
   "outputs": [],
   "source": []
  },
  {
   "cell_type": "code",
   "execution_count": null,
   "id": "5422d50a",
   "metadata": {},
   "outputs": [],
   "source": []
  },
  {
   "cell_type": "markdown",
   "id": "6f1de05e",
   "metadata": {},
   "source": [
    "### Z-score"
   ]
  },
  {
   "cell_type": "code",
   "execution_count": 42,
   "id": "57fcfa3b",
   "metadata": {},
   "outputs": [
    {
     "data": {
      "text/plain": [
       "19.91120080959099"
      ]
     },
     "execution_count": 42,
     "metadata": {},
     "output_type": "execute_result"
    }
   ],
   "source": [
    "data_dti.mean()"
   ]
  },
  {
   "cell_type": "code",
   "execution_count": 43,
   "id": "c6034fb6",
   "metadata": {},
   "outputs": [
    {
     "data": {
      "text/plain": [
       "19.835103502588783"
      ]
     },
     "execution_count": 43,
     "metadata": {},
     "output_type": "execute_result"
    }
   ],
   "source": [
    "data_dti.std()"
   ]
  },
  {
   "cell_type": "code",
   "execution_count": 44,
   "id": "7a5a7248",
   "metadata": {},
   "outputs": [
    {
     "data": {
      "text/plain": [
       "0        -0.084255\n",
       "1         0.333187\n",
       "2        -0.473968\n",
       "3        -0.159878\n",
       "4         0.324616\n",
       "            ...   \n",
       "199994    0.363941\n",
       "199995   -0.669581\n",
       "199996   -0.299530\n",
       "199997   -0.669076\n",
       "199998   -0.318688\n",
       "Name: dti, Length: 199999, dtype: float64"
      ]
     },
     "execution_count": 44,
     "metadata": {},
     "output_type": "execute_result"
    }
   ],
   "source": [
    "dti_z = (data_dti-data_dti.mean())/data_dti.std()\n",
    "dti_z"
   ]
  },
  {
   "cell_type": "code",
   "execution_count": 47,
   "id": "40616b6a",
   "metadata": {},
   "outputs": [
    {
     "data": {
      "text/plain": [
       "821"
      ]
     },
     "execution_count": 47,
     "metadata": {},
     "output_type": "execute_result"
    }
   ],
   "source": [
    "dti_z[(dti_z>3.5)|(dti_z<-3.5)].count()"
   ]
  },
  {
   "cell_type": "code",
   "execution_count": null,
   "id": "eed7257e",
   "metadata": {},
   "outputs": [],
   "source": []
  },
  {
   "cell_type": "code",
   "execution_count": null,
   "id": "0383b4ea",
   "metadata": {},
   "outputs": [],
   "source": []
  },
  {
   "cell_type": "code",
   "execution_count": null,
   "id": "dfa18798",
   "metadata": {},
   "outputs": [],
   "source": []
  },
  {
   "cell_type": "markdown",
   "id": "afc7cae4",
   "metadata": {},
   "source": [
    "### modified Z-score"
   ]
  },
  {
   "cell_type": "code",
   "execution_count": 98,
   "id": "eb471339",
   "metadata": {},
   "outputs": [],
   "source": [
    "dti_modified = abs(data_dti-data_dti.quantile(q=0.5))"
   ]
  },
  {
   "cell_type": "code",
   "execution_count": 99,
   "id": "e71bd0a8",
   "metadata": {},
   "outputs": [],
   "source": [
    "dti_mad = dti_modified.quantile(q=0.5)"
   ]
  },
  {
   "cell_type": "code",
   "execution_count": 100,
   "id": "19f99eb0",
   "metadata": {},
   "outputs": [],
   "source": [
    "dti_mod = (data_dti - data_dti.quantile(q=0.5)) * 0.6745 / dti_mad"
   ]
  },
  {
   "cell_type": "code",
   "execution_count": 104,
   "id": "b9826a66",
   "metadata": {},
   "outputs": [
    {
     "data": {
      "text/plain": [
       "0         True\n",
       "1         True\n",
       "2         True\n",
       "3         True\n",
       "4         True\n",
       "          ... \n",
       "199994    True\n",
       "199995    True\n",
       "199996    True\n",
       "199997    True\n",
       "199998    True\n",
       "Name: dti, Length: 199999, dtype: bool"
      ]
     },
     "execution_count": 104,
     "metadata": {},
     "output_type": "execute_result"
    }
   ],
   "source": [
    "(dti_mod>=-3.5)&(dti_mod<=3.5)"
   ]
  },
  {
   "cell_type": "code",
   "execution_count": 103,
   "id": "5e6a82c9",
   "metadata": {},
   "outputs": [
    {
     "data": {
      "text/plain": [
       "0         18.24\n",
       "1         26.52\n",
       "2         10.51\n",
       "3         16.74\n",
       "4         26.35\n",
       "          ...  \n",
       "199994    27.13\n",
       "199995     6.63\n",
       "199996    13.97\n",
       "199997     6.64\n",
       "199998    13.59\n",
       "Name: dti, Length: 196655, dtype: float64"
      ]
     },
     "execution_count": 103,
     "metadata": {},
     "output_type": "execute_result"
    }
   ],
   "source": [
    "data_dti[(dti_mod>=-3.5)&(dti_mod<=3.5)]"
   ]
  },
  {
   "cell_type": "code",
   "execution_count": null,
   "id": "60e89216",
   "metadata": {},
   "outputs": [],
   "source": []
  },
  {
   "cell_type": "code",
   "execution_count": null,
   "id": "e4776ab8",
   "metadata": {},
   "outputs": [],
   "source": []
  },
  {
   "cell_type": "code",
   "execution_count": null,
   "id": "a02ab91d",
   "metadata": {},
   "outputs": [],
   "source": []
  },
  {
   "cell_type": "markdown",
   "id": "16499da7",
   "metadata": {},
   "source": [
    "### IQR"
   ]
  },
  {
   "cell_type": "code",
   "execution_count": 48,
   "id": "16cd5da6",
   "metadata": {},
   "outputs": [],
   "source": [
    "dti_iqr = data_dti.quantile(q=0.75) - data_dti.quantile(q=0.25)"
   ]
  },
  {
   "cell_type": "code",
   "execution_count": 60,
   "id": "91a4d404",
   "metadata": {},
   "outputs": [],
   "source": [
    "dti_lc = data_dti.quantile(q=0.25) - 1.5*dti_iqr\n",
    "dti_uc = data_dti.quantile(q=0.75) + 1.5*dti_iqr"
   ]
  },
  {
   "cell_type": "code",
   "execution_count": 61,
   "id": "49b2a79d",
   "metadata": {},
   "outputs": [
    {
     "data": {
      "text/plain": [
       "4454"
      ]
     },
     "execution_count": 61,
     "metadata": {},
     "output_type": "execute_result"
    }
   ],
   "source": [
    "data_dti[(data_dti>dti_uc)|(data_dti<dti_lc)].count()"
   ]
  },
  {
   "cell_type": "code",
   "execution_count": null,
   "id": "98ec21f7",
   "metadata": {},
   "outputs": [],
   "source": []
  },
  {
   "cell_type": "code",
   "execution_count": null,
   "id": "569f9595",
   "metadata": {},
   "outputs": [],
   "source": []
  },
  {
   "cell_type": "code",
   "execution_count": null,
   "id": "d110263a",
   "metadata": {},
   "outputs": [],
   "source": []
  },
  {
   "cell_type": "markdown",
   "id": "733ec3c8",
   "metadata": {},
   "source": [
    "### SIQR"
   ]
  },
  {
   "cell_type": "code",
   "execution_count": 62,
   "id": "b97d9552",
   "metadata": {},
   "outputs": [],
   "source": [
    "dti_siqr_l = data_dti.quantile(q=0.5) - data_dti.quantile(q=0.25)\n",
    "dti_siqr_u = data_dti.quantile(q=0.75) - data_dti.quantile(q=0.5)"
   ]
  },
  {
   "cell_type": "code",
   "execution_count": 73,
   "id": "9a122e7a",
   "metadata": {},
   "outputs": [],
   "source": [
    "dti_siqr_lc = data_dti.quantile(q=0.25) - 7 * dti_siqr_l\n",
    "dti_siqr_uc = data_dti.quantile(q=0.75) + 7 * dti_siqr_u"
   ]
  },
  {
   "cell_type": "code",
   "execution_count": 74,
   "id": "5e54850c",
   "metadata": {},
   "outputs": [
    {
     "data": {
      "text/plain": [
       "1170"
      ]
     },
     "execution_count": 74,
     "metadata": {},
     "output_type": "execute_result"
    }
   ],
   "source": [
    "data_dti[(data_dti>dti_siqr_uc)|(data_dti<dti_siqr_lc)].count()"
   ]
  },
  {
   "cell_type": "code",
   "execution_count": null,
   "id": "c2acd432",
   "metadata": {},
   "outputs": [],
   "source": []
  },
  {
   "cell_type": "code",
   "execution_count": 75,
   "id": "15a64e21",
   "metadata": {},
   "outputs": [
    {
     "name": "stdout",
     "output_type": "stream",
     "text": [
      "2일때 : 6098\n",
      "3일때 : 4042\n",
      "4일때 : 2675\n",
      "5일때 : 1913\n",
      "6일때 : 1489\n",
      "7일때 : 1170\n",
      "8일때 : 944\n",
      "9일때 : 787\n"
     ]
    }
   ],
   "source": [
    "for i in range(2, 10):\n",
    "    dti_siqr_lc = data_dti.quantile(q=0.25) - i * dti_siqr_l\n",
    "    dti_siqr_uc = data_dti.quantile(q=0.75) + i * dti_siqr_u\n",
    "    print(f'{i}일때 : {data_dti[(data_dti>dti_siqr_uc)|(data_dti<dti_siqr_lc)].count()}')"
   ]
  },
  {
   "cell_type": "code",
   "execution_count": null,
   "id": "4c6b705f",
   "metadata": {},
   "outputs": [],
   "source": []
  },
  {
   "cell_type": "markdown",
   "id": "22a116ff",
   "metadata": {},
   "source": [
    "---"
   ]
  },
  {
   "cell_type": "code",
   "execution_count": null,
   "id": "90bd0957",
   "metadata": {},
   "outputs": [],
   "source": []
  },
  {
   "cell_type": "markdown",
   "id": "1dddf33b",
   "metadata": {},
   "source": [
    "# 정규성 검정"
   ]
  },
  {
   "cell_type": "code",
   "execution_count": 3,
   "id": "3cc102e0",
   "metadata": {},
   "outputs": [],
   "source": [
    "from scipy.stats import shapiro , normaltest , anderson , kstest"
   ]
  },
  {
   "cell_type": "code",
   "execution_count": 14,
   "id": "55322a7b",
   "metadata": {},
   "outputs": [
    {
     "data": {
      "text/plain": [
       "0.0"
      ]
     },
     "execution_count": 14,
     "metadata": {},
     "output_type": "execute_result"
    }
   ],
   "source": [
    "stat, p  = shapiro(data_dti.dropna().values)\n",
    "p"
   ]
  },
  {
   "cell_type": "code",
   "execution_count": 16,
   "id": "0c1708d9",
   "metadata": {},
   "outputs": [
    {
     "data": {
      "image/png": "[encoded data removed]",
      "text/plain": [
       "<Figure size 432x288 with 1 Axes>"
      ]
     },
     "metadata": {},
     "output_type": "display_data"
    }
   ],
   "source": [
    "plt.hist(data['installment'], bins=100)\n",
    "plt.show()"
   ]
  },
  {
   "cell_type": "code",
   "execution_count": 15,
   "id": "89314124",
   "metadata": {},
   "outputs": [
    {
     "data": {
      "text/plain": [
       "0.0"
      ]
     },
     "execution_count": 15,
     "metadata": {},
     "output_type": "execute_result"
    }
   ],
   "source": [
    "stat, p  = shapiro(data['installment'].dropna().values)\n",
    "p"
   ]
  },
  {
   "cell_type": "code",
   "execution_count": 94,
   "id": "e91d7f6f",
   "metadata": {},
   "outputs": [
    {
     "data": {
      "image/png": "[encoded data removed]",
      "text/plain": [
       "<Figure size 432x288 with 1 Axes>"
      ]
     },
     "metadata": {},
     "output_type": "display_data"
    }
   ],
   "source": [
    "plt.hist(data['settlement_term'], bins=100)\n",
    "plt.show()"
   ]
  },
  {
   "cell_type": "code",
   "execution_count": 96,
   "id": "340c032f",
   "metadata": {},
   "outputs": [
    {
     "data": {
      "text/plain": [
       "0.0"
      ]
     },
     "execution_count": 96,
     "metadata": {},
     "output_type": "execute_result"
    }
   ],
   "source": [
    "stat, p  = shapiro(data['funded_amnt'].dropna().values)\n",
    "p"
   ]
  },
  {
   "cell_type": "code",
   "execution_count": 34,
   "id": "11ac1c2d",
   "metadata": {},
   "outputs": [
    {
     "data": {
      "image/png": "[encoded data removed]",
      "text/plain": [
       "<Figure size 432x288 with 1 Axes>"
      ]
     },
     "metadata": {},
     "output_type": "display_data"
    }
   ],
   "source": [
    "plt.hist(data['funded_amnt'], bins=100)\n",
    "# plt.xlim([900, 1000])\n",
    "plt.show()"
   ]
  },
  {
   "cell_type": "code",
   "execution_count": null,
   "id": "840f961c",
   "metadata": {},
   "outputs": [],
   "source": []
  },
  {
   "cell_type": "code",
   "execution_count": null,
   "id": "9676d644",
   "metadata": {},
   "outputs": [],
   "source": []
  },
  {
   "cell_type": "code",
   "execution_count": null,
   "id": "ef23d95e",
   "metadata": {},
   "outputs": [],
   "source": []
  },
  {
   "cell_type": "code",
   "execution_count": 67,
   "id": "95f9613d",
   "metadata": {},
   "outputs": [
    {
     "data": {
      "text/plain": [
       "Index(['dti', 'delinq_2yrs', 'earliest_cr_line', 'inq_last_6mths',\n",
       "       'mths_since_last_delinq', 'mths_since_last_record', 'open_acc',\n",
       "       'pub_rec', 'revol_bal', 'revol_util', 'total_acc',\n",
       "       'initial_list_status', 'out_prncp', 'out_prncp_inv', 'total_pymnt',\n",
       "       'total_pymnt_inv', 'total_rec_prncp', 'total_rec_int',\n",
       "       'total_rec_late_fee', 'recoveries'],\n",
       "      dtype='object')"
      ]
     },
     "execution_count": 67,
     "metadata": {},
     "output_type": "execute_result"
    }
   ],
   "source": [
    "data.columns[20:40]"
   ]
  },
  {
   "cell_type": "code",
   "execution_count": 74,
   "id": "abb5b042",
   "metadata": {},
   "outputs": [
    {
     "data": {
      "text/plain": [
       "0.00000        239\n",
       "1215.49000     194\n",
       "1257.30000     175\n",
       "1246.16000     156\n",
       "1234.95000     153\n",
       "              ... \n",
       "1152.37000       1\n",
       "2487.20000       1\n",
       "3793.13000       1\n",
       "20007.24822      1\n",
       "1189.14000       1\n",
       "Name: total_pymnt, Length: 81997, dtype: int64"
      ]
     },
     "execution_count": 74,
     "metadata": {},
     "output_type": "execute_result"
    }
   ],
   "source": [
    "data['total_pymnt'].value_counts()"
   ]
  },
  {
   "cell_type": "code",
   "execution_count": 75,
   "id": "29bb3ac8",
   "metadata": {},
   "outputs": [
    {
     "data": {
      "text/plain": [
       "199999"
      ]
     },
     "execution_count": 75,
     "metadata": {},
     "output_type": "execute_result"
    }
   ],
   "source": [
    "data['total_pymnt'].dropna().count()"
   ]
  },
  {
   "cell_type": "code",
   "execution_count": 89,
   "id": "0a41ee55",
   "metadata": {},
   "outputs": [
    {
     "data": {
      "image/png": "[encoded data removed]",
      "text/plain": [
       "<Figure size 432x288 with 1 Axes>"
      ]
     },
     "metadata": {},
     "output_type": "display_data"
    }
   ],
   "source": [
    "plt.hist(data['installment'], bins=100)\n",
    "# plt.xlim([0, 25])\n",
    "plt.show()"
   ]
  },
  {
   "cell_type": "code",
   "execution_count": 88,
   "id": "6ab8f39f",
   "metadata": {},
   "outputs": [
    {
     "data": {
      "text/plain": [
       "0.0"
      ]
     },
     "execution_count": 88,
     "metadata": {},
     "output_type": "execute_result"
    }
   ],
   "source": [
    "stat, p  = shapiro(data['installment'].dropna().values)\n",
    "p"
   ]
  },
  {
   "cell_type": "code",
   "execution_count": 24,
   "id": "f997112e",
   "metadata": {},
   "outputs": [],
   "source": [
    "# nan 결측치 제거\n",
    "data_hardship = data['hardship_amount'].dropna()"
   ]
  },
  {
   "cell_type": "code",
   "execution_count": 86,
   "id": "818da6b5",
   "metadata": {},
   "outputs": [
    {
     "data": {
      "text/plain": [
       "23.455840681048375"
      ]
     },
     "execution_count": 86,
     "metadata": {},
     "output_type": "execute_result"
    }
   ],
   "source": [
    "data['dti'].skew()"
   ]
  },
  {
   "cell_type": "code",
   "execution_count": 27,
   "id": "b8cbe09c",
   "metadata": {},
   "outputs": [
    {
     "data": {
      "text/plain": [
       "(5,)"
      ]
     },
     "execution_count": 27,
     "metadata": {},
     "output_type": "execute_result"
    }
   ],
   "source": [
    "data_hardship.shape"
   ]
  },
  {
   "cell_type": "code",
   "execution_count": 83,
   "id": "a8e47684",
   "metadata": {},
   "outputs": [
    {
     "data": {
      "text/plain": [
       "(22012811.120470203, 0.0, 6.236496967160195, 52.859552389923664)"
      ]
     },
     "execution_count": 83,
     "metadata": {},
     "output_type": "execute_result"
    }
   ],
   "source": [
    "import statsmodels.stats.stattools\n",
    "statsmodels.stats.stattools.jarque_bera(data['total_pymnt'])"
   ]
  },
  {
   "cell_type": "code",
   "execution_count": null,
   "id": "42b83249",
   "metadata": {},
   "outputs": [],
   "source": []
  },
  {
   "cell_type": "code",
   "execution_count": null,
   "id": "d3319707",
   "metadata": {},
   "outputs": [],
   "source": []
  },
  {
   "cell_type": "code",
   "execution_count": 109,
   "id": "2b071146",
   "metadata": {},
   "outputs": [
    {
     "data": {
      "image/png": "[encoded data removed]",
      "text/plain": [
       "<Figure size 432x288 with 1 Axes>"
      ]
     },
     "metadata": {},
     "output_type": "display_data"
    }
   ],
   "source": [
    "plt.hist(data['dti'].dropna(), bins=100)\n",
    "# plt.xlim([0, 25])\n",
    "plt.show()"
   ]
  },
  {
   "cell_type": "code",
   "execution_count": 105,
   "id": "ee1ec320",
   "metadata": {},
   "outputs": [
    {
     "data": {
      "text/plain": [
       "0         18.24\n",
       "1         26.52\n",
       "2         10.51\n",
       "3         16.74\n",
       "4         26.35\n",
       "          ...  \n",
       "199994    27.13\n",
       "199995     6.63\n",
       "199996    13.97\n",
       "199997     6.64\n",
       "199998    13.59\n",
       "Name: dti, Length: 199999, dtype: float64"
      ]
     },
     "execution_count": 105,
     "metadata": {},
     "output_type": "execute_result"
    }
   ],
   "source": [
    "data_dti"
   ]
  },
  {
   "cell_type": "code",
   "execution_count": 107,
   "id": "0f843bc8",
   "metadata": {},
   "outputs": [
    {
     "name": "stdout",
     "output_type": "stream",
     "text": [
      "0.0 999.0\n"
     ]
    }
   ],
   "source": [
    "print(min(data_dti), max(data_dti))"
   ]
  },
  {
   "cell_type": "code",
   "execution_count": 111,
   "id": "b99c5bda",
   "metadata": {},
   "outputs": [
    {
     "data": {
      "text/plain": [
       "7383"
      ]
     },
     "execution_count": 111,
     "metadata": {},
     "output_type": "execute_result"
    }
   ],
   "source": [
    "len(data_dti.value_counts())"
   ]
  },
  {
   "cell_type": "markdown",
   "id": "152ca52f",
   "metadata": {},
   "source": [
    "x축 - 도수분포표 범위\n",
    "y축 - 각 범위의 도수\n",
    "min & max"
   ]
  },
  {
   "cell_type": "code",
   "execution_count": null,
   "id": "be08754f",
   "metadata": {},
   "outputs": [],
   "source": []
  },
  {
   "cell_type": "code",
   "execution_count": 113,
   "id": "3fc0f38e",
   "metadata": {},
   "outputs": [
    {
     "data": {
      "text/plain": [
       "Series([], dtype: int64)"
      ]
     },
     "execution_count": 113,
     "metadata": {},
     "output_type": "execute_result"
    }
   ],
   "source": [
    "len(data[].value_counts())"
   ]
  },
  {
   "cell_type": "code",
   "execution_count": null,
   "id": "cad441b6",
   "metadata": {},
   "outputs": [],
   "source": []
  },
  {
   "cell_type": "code",
   "execution_count": null,
   "id": "14b0a338",
   "metadata": {},
   "outputs": [],
   "source": []
  },
  {
   "cell_type": "code",
   "execution_count": null,
   "id": "d65de777",
   "metadata": {},
   "outputs": [],
   "source": []
  },
  {
   "cell_type": "code",
   "execution_count": null,
   "id": "7c6d973e",
   "metadata": {},
   "outputs": [],
   "source": []
  },
  {
   "cell_type": "code",
   "execution_count": null,
   "id": "edc058f9",
   "metadata": {},
   "outputs": [],
   "source": []
  },
  {
   "cell_type": "code",
   "execution_count": null,
   "id": "5f8473c3",
   "metadata": {},
   "outputs": [],
   "source": []
  },
  {
   "cell_type": "code",
   "execution_count": null,
   "id": "5e97fc73",
   "metadata": {},
   "outputs": [],
   "source": []
  },
  {
   "cell_type": "code",
   "execution_count": null,
   "id": "0c713385",
   "metadata": {},
   "outputs": [],
   "source": []
  },
  {
   "cell_type": "code",
   "execution_count": null,
   "id": "24a43256",
   "metadata": {},
   "outputs": [],
   "source": []
  },
  {
   "cell_type": "code",
   "execution_count": null,
   "id": "ab70aa5f",
   "metadata": {},
   "outputs": [],
   "source": []
  }
 ],
 "metadata": {
  "kernelspec": {
   "display_name": "Python 3",
   "language": "python",
   "name": "python3"
  },
  "language_info": {
   "codemirror_mode": {
    "name": "ipython",
    "version": 3
   },
   "file_extension": ".py",
   "mimetype": "text/x-python",
   "name": "python",
   "nbconvert_exporter": "python",
   "pygments_lexer": "ipython3",
   "version": "3.8.8"
  }
 },
 "nbformat": 4,
 "nbformat_minor": 5
}
