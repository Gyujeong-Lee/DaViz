{
 "cells": [
  {
   "cell_type": "code",
   "execution_count": 97,
   "id": "ce50e1fa",
   "metadata": {},
   "outputs": [],
   "source": [
    "import warnings\n",
    "warnings.filterwarnings('ignore')\n",
    "\n",
    "import pandas as pd\n",
    "import numpy as np\n",
    "import matplotlib.pyplot as plt\n",
    "import seaborn as sns\n",
    "sns.set()\n",
    "\n",
    "from sklearn.linear_model import LinearRegression\n",
    "from sklearn.model_selection import train_test_split\n",
    "from xgboost import XGBClassifier\n",
    "from sklearn.metrics import mean_absolute_error\n",
    "from sklearn.metrics import mean_squared_error\n",
    "\n",
    "from scipy.stats import shapiro , normaltest , anderson , kstest\n",
    "\n",
    "plt.rcParams['font.family'] = 'Malgun Gothic'\n",
    "\n",
    "import math"
   ]
  },
  {
   "cell_type": "code",
   "execution_count": 2,
   "id": "6683a7d2",
   "metadata": {},
   "outputs": [],
   "source": [
    "data = pd.read_csv('./loan.csv')"
   ]
  },
  {
   "cell_type": "code",
   "execution_count": 3,
   "id": "a83a2f8d",
   "metadata": {},
   "outputs": [],
   "source": [
    "revol = data['revol_util']"
   ]
  },
  {
   "cell_type": "code",
   "execution_count": 4,
   "id": "a87c1286",
   "metadata": {
    "scrolled": true
   },
   "outputs": [
    {
     "data": {
      "text/plain": [
       "0.00      13069\n",
       "57.00      4324\n",
       "48.00      4283\n",
       "59.00      4272\n",
       "61.00      4223\n",
       "          ...  \n",
       "54.22         1\n",
       "126.60        1\n",
       "21.72         1\n",
       "153.70        1\n",
       "145.80        1\n",
       "Name: revol_util, Length: 1430, dtype: int64"
      ]
     },
     "execution_count": 4,
     "metadata": {},
     "output_type": "execute_result"
    }
   ],
   "source": [
    "revol.value_counts()"
   ]
  },
  {
   "cell_type": "code",
   "execution_count": 7,
   "id": "046f338b",
   "metadata": {},
   "outputs": [
    {
     "data": {
      "text/plain": [
       "count    2.258866e+06\n",
       "mean     5.033770e+01\n",
       "std      2.471307e+01\n",
       "min      0.000000e+00\n",
       "25%      3.150000e+01\n",
       "50%      5.030000e+01\n",
       "75%      6.940000e+01\n",
       "max      8.923000e+02\n",
       "Name: revol_util, dtype: float64"
      ]
     },
     "execution_count": 7,
     "metadata": {},
     "output_type": "execute_result"
    }
   ],
   "source": [
    "revol.describe()"
   ]
  },
  {
   "cell_type": "code",
   "execution_count": 48,
   "id": "450559b4",
   "metadata": {},
   "outputs": [
    {
     "data": {
      "text/plain": [
       "0.00      13069\n",
       "57.00      4324\n",
       "48.00      4283\n",
       "59.00      4272\n",
       "61.00      4223\n",
       "          ...  \n",
       "54.22         1\n",
       "126.60        1\n",
       "21.72         1\n",
       "153.70        1\n",
       "145.80        1\n",
       "Name: revol_util, Length: 1430, dtype: int64"
      ]
     },
     "execution_count": 48,
     "metadata": {},
     "output_type": "execute_result"
    }
   ],
   "source": [
    "revol.value_counts()"
   ]
  },
  {
   "cell_type": "code",
   "execution_count": 5,
   "id": "9010b366",
   "metadata": {
    "scrolled": true
   },
   "outputs": [
    {
     "data": {
      "text/plain": [
       "20.0     82570\n",
       "19.0     82012\n",
       "18.0     81931\n",
       "17.0     81378\n",
       "21.0     81170\n",
       "         ...  \n",
       "150.0        1\n",
       "165.0        1\n",
       "145.0        1\n",
       "148.0        1\n",
       "128.0        1\n",
       "Name: total_acc, Length: 152, dtype: int64"
      ]
     },
     "execution_count": 5,
     "metadata": {},
     "output_type": "execute_result"
    }
   ],
   "source": [
    "data['total_acc'].value_counts()"
   ]
  },
  {
   "cell_type": "code",
   "execution_count": 6,
   "id": "36e69adc",
   "metadata": {},
   "outputs": [
    {
     "data": {
      "text/plain": [
       "count    2.260639e+06\n",
       "mean     2.416255e+01\n",
       "std      1.198753e+01\n",
       "min      1.000000e+00\n",
       "25%      1.500000e+01\n",
       "50%      2.200000e+01\n",
       "75%      3.100000e+01\n",
       "max      1.760000e+02\n",
       "Name: total_acc, dtype: float64"
      ]
     },
     "execution_count": 6,
     "metadata": {},
     "output_type": "execute_result"
    }
   ],
   "source": [
    "data['total_acc'].describe()"
   ]
  },
  {
   "cell_type": "code",
   "execution_count": 35,
   "id": "d187fe85",
   "metadata": {},
   "outputs": [
    {
     "data": {
      "image/png": "[encoded data removed]",
      "text/plain": [
       "<Figure size 432x288 with 1 Axes>"
      ]
     },
     "metadata": {},
     "output_type": "display_data"
    }
   ],
   "source": [
    "plt.hist(data['total_acc'], bins=100)\n",
    "# plt.ylim([0, 10])\n",
    "plt.show()"
   ]
  },
  {
   "cell_type": "code",
   "execution_count": 22,
   "id": "793867c3",
   "metadata": {},
   "outputs": [
    {
     "data": {
      "image/png": "[encoded data removed]",
      "text/plain": [
       "<Figure size 432x288 with 1 Axes>"
      ]
     },
     "metadata": {},
     "output_type": "display_data"
    }
   ],
   "source": [
    "plt.hist(data['revol_util'], bins=100)\n",
    "plt.ylim([0, 10])\n",
    "plt.show()"
   ]
  },
  {
   "cell_type": "code",
   "execution_count": null,
   "id": "e881ec1d",
   "metadata": {},
   "outputs": [],
   "source": []
  },
  {
   "cell_type": "code",
   "execution_count": 13,
   "id": "8861c354",
   "metadata": {},
   "outputs": [
    {
     "data": {
      "text/plain": [
       "count    2.260639e+06\n",
       "mean     1.161240e+01\n",
       "std      5.640861e+00\n",
       "min      0.000000e+00\n",
       "25%      8.000000e+00\n",
       "50%      1.100000e+01\n",
       "75%      1.400000e+01\n",
       "max      1.010000e+02\n",
       "Name: open_acc, dtype: float64"
      ]
     },
     "execution_count": 13,
     "metadata": {},
     "output_type": "execute_result"
    }
   ],
   "source": [
    "data['open_acc'].describe()"
   ]
  },
  {
   "cell_type": "code",
   "execution_count": 29,
   "id": "622c69a4",
   "metadata": {},
   "outputs": [
    {
     "data": {
      "image/png": "[encoded data removed]",
      "text/plain": [
       "<Figure size 432x288 with 1 Axes>"
      ]
     },
     "metadata": {},
     "output_type": "display_data"
    }
   ],
   "source": [
    "plt.hist(data['open_acc'], bins=100)\n",
    "plt.show()"
   ]
  },
  {
   "cell_type": "code",
   "execution_count": null,
   "id": "f63b14e0",
   "metadata": {},
   "outputs": [],
   "source": []
  },
  {
   "cell_type": "code",
   "execution_count": 24,
   "id": "2d13cc18",
   "metadata": {},
   "outputs": [
    {
     "data": {
      "image/png": "[encoded data removed]",
      "text/plain": [
       "<Figure size 432x288 with 1 Axes>"
      ]
     },
     "metadata": {},
     "output_type": "display_data"
    }
   ],
   "source": [
    "plt.hist(data['annual_inc'], bins=100)\n",
    "plt.ylim([0, 10])\n",
    "plt.show()"
   ]
  },
  {
   "cell_type": "code",
   "execution_count": 72,
   "id": "a999f2d6",
   "metadata": {},
   "outputs": [],
   "source": [
    "dti_describe = data['dti'].describe()"
   ]
  },
  {
   "cell_type": "code",
   "execution_count": 91,
   "id": "7f3ff971",
   "metadata": {},
   "outputs": [
    {
     "name": "stdout",
     "output_type": "stream",
     "text": [
      "float64\n"
     ]
    }
   ],
   "source": [
    "print(data['dti'].dtype)"
   ]
  },
  {
   "cell_type": "code",
   "execution_count": 96,
   "id": "74d42ecf",
   "metadata": {},
   "outputs": [
    {
     "data": {
      "text/plain": [
       "10845"
      ]
     },
     "execution_count": 96,
     "metadata": {},
     "output_type": "execute_result"
    }
   ],
   "source": [
    "len(data['dti'].value_counts())"
   ]
  },
  {
   "cell_type": "code",
   "execution_count": 101,
   "id": "359c02bc",
   "metadata": {},
   "outputs": [
    {
     "data": {
      "text/plain": [
       "0.0"
      ]
     },
     "execution_count": 101,
     "metadata": {},
     "output_type": "execute_result"
    }
   ],
   "source": [
    "stat, p  = shapiro(data['dti'].dropna().values)\n",
    "p"
   ]
  },
  {
   "cell_type": "code",
   "execution_count": 102,
   "id": "b747a032",
   "metadata": {},
   "outputs": [
    {
     "data": {
      "text/plain": [
       "29.0"
      ]
     },
     "execution_count": 102,
     "metadata": {},
     "output_type": "execute_result"
    }
   ],
   "source": [
    "data['dti'].skew().round()"
   ]
  },
  {
   "cell_type": "code",
   "execution_count": null,
   "id": "de843e7a",
   "metadata": {},
   "outputs": [],
   "source": []
  },
  {
   "cell_type": "code",
   "execution_count": 104,
   "id": "a1eddbf1",
   "metadata": {},
   "outputs": [],
   "source": [
    "describes = pd.DataFrame(dti_describe).T"
   ]
  },
  {
   "cell_type": "code",
   "execution_count": 105,
   "id": "873e5435",
   "metadata": {},
   "outputs": [
    {
     "data": {
      "text/html": [
       "<div>\n",
       "<style scoped>\n",
       "    .dataframe tbody tr th:only-of-type {\n",
       "        vertical-align: middle;\n",
       "    }\n",
       "\n",
       "    .dataframe tbody tr th {\n",
       "        vertical-align: top;\n",
       "    }\n",
       "\n",
       "    .dataframe thead th {\n",
       "        text-align: right;\n",
       "    }\n",
       "</style>\n",
       "<table border=\"1\" class=\"dataframe\">\n",
       "  <thead>\n",
       "    <tr style=\"text-align: right;\">\n",
       "      <th></th>\n",
       "      <th>count</th>\n",
       "      <th>mean</th>\n",
       "      <th>std</th>\n",
       "      <th>min</th>\n",
       "      <th>25%</th>\n",
       "      <th>50%</th>\n",
       "      <th>75%</th>\n",
       "      <th>max</th>\n",
       "    </tr>\n",
       "  </thead>\n",
       "  <tbody>\n",
       "    <tr>\n",
       "      <th>dti</th>\n",
       "      <td>2258957.0</td>\n",
       "      <td>18.824196</td>\n",
       "      <td>14.183329</td>\n",
       "      <td>-1.0</td>\n",
       "      <td>11.89</td>\n",
       "      <td>17.84</td>\n",
       "      <td>24.49</td>\n",
       "      <td>999.0</td>\n",
       "    </tr>\n",
       "  </tbody>\n",
       "</table>\n",
       "</div>"
      ],
      "text/plain": [
       "         count       mean        std  min    25%    50%    75%    max\n",
       "dti  2258957.0  18.824196  14.183329 -1.0  11.89  17.84  24.49  999.0"
      ]
     },
     "execution_count": 105,
     "metadata": {},
     "output_type": "execute_result"
    }
   ],
   "source": [
    "describes"
   ]
  },
  {
   "cell_type": "code",
   "execution_count": 106,
   "id": "a0389b3c",
   "metadata": {},
   "outputs": [],
   "source": [
    "# 컬럼명\n",
    "describes.loc['dti', 'col_name'] = 'dti'"
   ]
  },
  {
   "cell_type": "code",
   "execution_count": 107,
   "id": "80a0a9f0",
   "metadata": {},
   "outputs": [],
   "source": [
    "# unique value 개수\n",
    "describes.loc['dti', 'unique_cnt'] = len(data['dti'].value_counts())"
   ]
  },
  {
   "cell_type": "code",
   "execution_count": 108,
   "id": "22add2a4",
   "metadata": {},
   "outputs": [],
   "source": [
    "# 데이터 타입\n",
    "describes.loc['dti', 'dtype'] = data['dti'].dtype"
   ]
  },
  {
   "cell_type": "code",
   "execution_count": 109,
   "id": "5ee40665",
   "metadata": {},
   "outputs": [],
   "source": [
    "# null 값 개수\n",
    "describes.loc['dti', 'null_cnt'] = data['dti'].isna().sum()"
   ]
  },
  {
   "cell_type": "code",
   "execution_count": 110,
   "id": "ab225964",
   "metadata": {},
   "outputs": [],
   "source": [
    "# 정규성검정 p-value (shapiro 검정)\n",
    "stat, p  = shapiro(data['dti'].dropna().values)\n",
    "describes.loc['dti', 'p_value'] = p"
   ]
  },
  {
   "cell_type": "code",
   "execution_count": 111,
   "id": "3ef2183a",
   "metadata": {},
   "outputs": [],
   "source": [
    "# 왜도\n",
    "describes.loc['dti', 'skewness'] = data['dti'].skew().round()"
   ]
  },
  {
   "cell_type": "code",
   "execution_count": 122,
   "id": "1909dee7",
   "metadata": {},
   "outputs": [
    {
     "data": {
      "image/png": "[encoded data removed]",
      "text/plain": [
       "<Figure size 432x288 with 1 Axes>"
      ]
     },
     "metadata": {},
     "output_type": "display_data"
    }
   ],
   "source": [
    "# 히스토그램 x축, y축\n",
    "bins = max(len(data['dti'].value_counts())//100, int(describes.loc['dti', 'max']-describes.loc['dti', 'min']))\n",
    "bins = min(bins, 100)\n",
    "\n",
    "histo = plt.hist(data['dti'], bins=bins)\n",
    "describes.loc['dti', 'x_axis'] = '|'.join(list(map(str, map(int, histo[0]))))\n",
    "describes.loc['dti', 'y_axis'] = '|'.join(list(map(str, histo[1].round(1))))"
   ]
  },
  {
   "cell_type": "code",
   "execution_count": 123,
   "id": "809bb2e5",
   "metadata": {},
   "outputs": [
    {
     "data": {
      "text/html": [
       "<div>\n",
       "<style scoped>\n",
       "    .dataframe tbody tr th:only-of-type {\n",
       "        vertical-align: middle;\n",
       "    }\n",
       "\n",
       "    .dataframe tbody tr th {\n",
       "        vertical-align: top;\n",
       "    }\n",
       "\n",
       "    .dataframe thead th {\n",
       "        text-align: right;\n",
       "    }\n",
       "</style>\n",
       "<table border=\"1\" class=\"dataframe\">\n",
       "  <thead>\n",
       "    <tr style=\"text-align: right;\">\n",
       "      <th></th>\n",
       "      <th>count</th>\n",
       "      <th>mean</th>\n",
       "      <th>std</th>\n",
       "      <th>min</th>\n",
       "      <th>25%</th>\n",
       "      <th>50%</th>\n",
       "      <th>75%</th>\n",
       "      <th>max</th>\n",
       "      <th>col_name</th>\n",
       "      <th>unique_cnt</th>\n",
       "      <th>dtype</th>\n",
       "      <th>null_cnt</th>\n",
       "      <th>p_value</th>\n",
       "      <th>skewness</th>\n",
       "      <th>x_axis</th>\n",
       "      <th>y_axis</th>\n",
       "    </tr>\n",
       "  </thead>\n",
       "  <tbody>\n",
       "    <tr>\n",
       "      <th>dti</th>\n",
       "      <td>2258957.0</td>\n",
       "      <td>18.824196</td>\n",
       "      <td>14.183329</td>\n",
       "      <td>-1.0</td>\n",
       "      <td>11.89</td>\n",
       "      <td>17.84</td>\n",
       "      <td>24.49</td>\n",
       "      <td>999.0</td>\n",
       "      <td>dti</td>\n",
       "      <td>10845.0</td>\n",
       "      <td>float64</td>\n",
       "      <td>1711.0</td>\n",
       "      <td>0.0</td>\n",
       "      <td>29.0</td>\n",
       "      <td>334430|903973|726366|258971|20517|6039|2793|16...</td>\n",
       "      <td>-1.0|9.0|19.0|29.0|39.0|49.0|59.0|69.0|79.0|89...</td>\n",
       "    </tr>\n",
       "  </tbody>\n",
       "</table>\n",
       "</div>"
      ],
      "text/plain": [
       "         count       mean        std  min    25%    50%    75%    max  \\\n",
       "dti  2258957.0  18.824196  14.183329 -1.0  11.89  17.84  24.49  999.0   \n",
       "\n",
       "    col_name  unique_cnt    dtype  null_cnt  p_value  skewness  \\\n",
       "dti      dti     10845.0  float64    1711.0      0.0      29.0   \n",
       "\n",
       "                                                x_axis  \\\n",
       "dti  334430|903973|726366|258971|20517|6039|2793|16...   \n",
       "\n",
       "                                                y_axis  \n",
       "dti  -1.0|9.0|19.0|29.0|39.0|49.0|59.0|69.0|79.0|89...  "
      ]
     },
     "execution_count": 123,
     "metadata": {},
     "output_type": "execute_result"
    }
   ],
   "source": [
    "describes"
   ]
  },
  {
   "cell_type": "code",
   "execution_count": null,
   "id": "0fa09727",
   "metadata": {},
   "outputs": [],
   "source": []
  },
  {
   "cell_type": "code",
   "execution_count": null,
   "id": "db8f1381",
   "metadata": {},
   "outputs": [],
   "source": []
  },
  {
   "cell_type": "code",
   "execution_count": null,
   "id": "7faa835c",
   "metadata": {},
   "outputs": [],
   "source": []
  },
  {
   "cell_type": "code",
   "execution_count": null,
   "id": "b0151352",
   "metadata": {},
   "outputs": [],
   "source": []
  },
  {
   "cell_type": "code",
   "execution_count": null,
   "id": "ad218bca",
   "metadata": {},
   "outputs": [],
   "source": []
  },
  {
   "cell_type": "code",
   "execution_count": null,
   "id": "d5f4f832",
   "metadata": {},
   "outputs": [],
   "source": []
  },
  {
   "cell_type": "code",
   "execution_count": null,
   "id": "d465c863",
   "metadata": {},
   "outputs": [],
   "source": []
  },
  {
   "cell_type": "code",
   "execution_count": 103,
   "id": "f8820235",
   "metadata": {},
   "outputs": [],
   "source": [
    "describes = pd.DataFrame(dti_describe).T"
   ]
  },
  {
   "cell_type": "code",
   "execution_count": 80,
   "id": "64226ee7",
   "metadata": {},
   "outputs": [],
   "source": [
    "describes.loc['total_acc'] = pd.DataFrame(data['total_acc'].describe()).T.loc['total_acc']"
   ]
  },
  {
   "cell_type": "code",
   "execution_count": 81,
   "id": "bfcd9802",
   "metadata": {},
   "outputs": [
    {
     "data": {
      "text/html": [
       "<div>\n",
       "<style scoped>\n",
       "    .dataframe tbody tr th:only-of-type {\n",
       "        vertical-align: middle;\n",
       "    }\n",
       "\n",
       "    .dataframe tbody tr th {\n",
       "        vertical-align: top;\n",
       "    }\n",
       "\n",
       "    .dataframe thead th {\n",
       "        text-align: right;\n",
       "    }\n",
       "</style>\n",
       "<table border=\"1\" class=\"dataframe\">\n",
       "  <thead>\n",
       "    <tr style=\"text-align: right;\">\n",
       "      <th></th>\n",
       "      <th>count</th>\n",
       "      <th>mean</th>\n",
       "      <th>std</th>\n",
       "      <th>min</th>\n",
       "      <th>25%</th>\n",
       "      <th>50%</th>\n",
       "      <th>75%</th>\n",
       "      <th>max</th>\n",
       "    </tr>\n",
       "  </thead>\n",
       "  <tbody>\n",
       "    <tr>\n",
       "      <th>dti</th>\n",
       "      <td>2258957.0</td>\n",
       "      <td>18.824196</td>\n",
       "      <td>14.183329</td>\n",
       "      <td>-1.0</td>\n",
       "      <td>11.89</td>\n",
       "      <td>17.84</td>\n",
       "      <td>24.49</td>\n",
       "      <td>999.0</td>\n",
       "    </tr>\n",
       "    <tr>\n",
       "      <th>total_acc</th>\n",
       "      <td>2260639.0</td>\n",
       "      <td>24.162552</td>\n",
       "      <td>11.987528</td>\n",
       "      <td>1.0</td>\n",
       "      <td>15.00</td>\n",
       "      <td>22.00</td>\n",
       "      <td>31.00</td>\n",
       "      <td>176.0</td>\n",
       "    </tr>\n",
       "  </tbody>\n",
       "</table>\n",
       "</div>"
      ],
      "text/plain": [
       "               count       mean        std  min    25%    50%    75%    max\n",
       "dti        2258957.0  18.824196  14.183329 -1.0  11.89  17.84  24.49  999.0\n",
       "total_acc  2260639.0  24.162552  11.987528  1.0  15.00  22.00  31.00  176.0"
      ]
     },
     "execution_count": 81,
     "metadata": {},
     "output_type": "execute_result"
    }
   ],
   "source": [
    "describes"
   ]
  },
  {
   "cell_type": "code",
   "execution_count": 85,
   "id": "89134f11",
   "metadata": {},
   "outputs": [],
   "source": [
    "describes['col_name'] = describes.index"
   ]
  },
  {
   "cell_type": "code",
   "execution_count": 86,
   "id": "20011ec2",
   "metadata": {},
   "outputs": [
    {
     "data": {
      "text/html": [
       "<div>\n",
       "<style scoped>\n",
       "    .dataframe tbody tr th:only-of-type {\n",
       "        vertical-align: middle;\n",
       "    }\n",
       "\n",
       "    .dataframe tbody tr th {\n",
       "        vertical-align: top;\n",
       "    }\n",
       "\n",
       "    .dataframe thead th {\n",
       "        text-align: right;\n",
       "    }\n",
       "</style>\n",
       "<table border=\"1\" class=\"dataframe\">\n",
       "  <thead>\n",
       "    <tr style=\"text-align: right;\">\n",
       "      <th></th>\n",
       "      <th>count</th>\n",
       "      <th>mean</th>\n",
       "      <th>std</th>\n",
       "      <th>min</th>\n",
       "      <th>25%</th>\n",
       "      <th>50%</th>\n",
       "      <th>75%</th>\n",
       "      <th>max</th>\n",
       "      <th>col_name</th>\n",
       "    </tr>\n",
       "  </thead>\n",
       "  <tbody>\n",
       "    <tr>\n",
       "      <th>dti</th>\n",
       "      <td>2258957.0</td>\n",
       "      <td>18.824196</td>\n",
       "      <td>14.183329</td>\n",
       "      <td>-1.0</td>\n",
       "      <td>11.89</td>\n",
       "      <td>17.84</td>\n",
       "      <td>24.49</td>\n",
       "      <td>999.0</td>\n",
       "      <td>dti</td>\n",
       "    </tr>\n",
       "    <tr>\n",
       "      <th>total_acc</th>\n",
       "      <td>2260639.0</td>\n",
       "      <td>24.162552</td>\n",
       "      <td>11.987528</td>\n",
       "      <td>1.0</td>\n",
       "      <td>15.00</td>\n",
       "      <td>22.00</td>\n",
       "      <td>31.00</td>\n",
       "      <td>176.0</td>\n",
       "      <td>total_acc</td>\n",
       "    </tr>\n",
       "  </tbody>\n",
       "</table>\n",
       "</div>"
      ],
      "text/plain": [
       "               count       mean        std  min    25%    50%    75%    max  \\\n",
       "dti        2258957.0  18.824196  14.183329 -1.0  11.89  17.84  24.49  999.0   \n",
       "total_acc  2260639.0  24.162552  11.987528  1.0  15.00  22.00  31.00  176.0   \n",
       "\n",
       "            col_name  \n",
       "dti              dti  \n",
       "total_acc  total_acc  "
      ]
     },
     "execution_count": 86,
     "metadata": {},
     "output_type": "execute_result"
    }
   ],
   "source": [
    "describes"
   ]
  },
  {
   "cell_type": "code",
   "execution_count": null,
   "id": "3f39562c",
   "metadata": {},
   "outputs": [],
   "source": []
  },
  {
   "cell_type": "code",
   "execution_count": null,
   "id": "41a510ba",
   "metadata": {},
   "outputs": [],
   "source": []
  },
  {
   "cell_type": "code",
   "execution_count": 52,
   "id": "2ce45e7f",
   "metadata": {},
   "outputs": [
    {
     "data": {
      "text/plain": [
       "0.00      1732\n",
       "18.00     1584\n",
       "14.40     1577\n",
       "16.80     1576\n",
       "19.20     1566\n",
       "          ... \n",
       "157.90       1\n",
       "76.07        1\n",
       "173.71       1\n",
       "156.80       1\n",
       "93.90        1\n",
       "Name: dti, Length: 10845, dtype: int64"
      ]
     },
     "execution_count": 52,
     "metadata": {},
     "output_type": "execute_result"
    }
   ],
   "source": [
    "data['dti'].value_counts()"
   ]
  },
  {
   "cell_type": "code",
   "execution_count": 68,
   "id": "2c4687a4",
   "metadata": {},
   "outputs": [
    {
     "data": {
      "image/png": "[encoded data removed]",
      "text/plain": [
       "<Figure size 432x288 with 1 Axes>"
      ]
     },
     "metadata": {},
     "output_type": "display_data"
    }
   ],
   "source": [
    "histo = plt.hist(data['dti'], bins=30)\n",
    "# plt.ylim([0, 600])\n",
    "# plt.show()\n",
    "# histo"
   ]
  },
  {
   "cell_type": "code",
   "execution_count": 118,
   "id": "265a979e",
   "metadata": {
    "scrolled": true
   },
   "outputs": [
    {
     "data": {
      "text/plain": [
       "dtype('float64')"
      ]
     },
     "execution_count": 118,
     "metadata": {},
     "output_type": "execute_result"
    }
   ],
   "source": [
    "histo[1].round(0).dtype"
   ]
  },
  {
   "cell_type": "code",
   "execution_count": null,
   "id": "34920d96",
   "metadata": {},
   "outputs": [],
   "source": []
  },
  {
   "cell_type": "code",
   "execution_count": null,
   "id": "509688d2",
   "metadata": {},
   "outputs": [],
   "source": []
  },
  {
   "cell_type": "code",
   "execution_count": null,
   "id": "42d72ebe",
   "metadata": {},
   "outputs": [],
   "source": []
  },
  {
   "cell_type": "code",
   "execution_count": null,
   "id": "04c8579f",
   "metadata": {},
   "outputs": [],
   "source": []
  },
  {
   "cell_type": "code",
   "execution_count": null,
   "id": "7b0f7a71",
   "metadata": {},
   "outputs": [],
   "source": []
  },
  {
   "cell_type": "code",
   "execution_count": 37,
   "id": "0216d090",
   "metadata": {},
   "outputs": [],
   "source": [
    "cols = data.columns"
   ]
  },
  {
   "cell_type": "code",
   "execution_count": 41,
   "id": "2fc39bf5",
   "metadata": {
    "collapsed": true
   },
   "outputs": [
    {
     "data": {
      "text/plain": [
       "Index(['total_rev_hi_lim', 'inq_fi', 'total_cu_tl', 'inq_last_12m',\n",
       "       'acc_open_past_24mths', 'avg_cur_bal', 'bc_open_to_buy', 'bc_util',\n",
       "       'chargeoff_within_12_mths', 'delinq_amnt', 'mo_sin_old_il_acct',\n",
       "       'mo_sin_old_rev_tl_op', 'mo_sin_rcnt_rev_tl_op', 'mo_sin_rcnt_tl',\n",
       "       'mort_acc', 'mths_since_recent_bc', 'mths_since_recent_bc_dlq',\n",
       "       'mths_since_recent_inq', 'mths_since_recent_revol_delinq',\n",
       "       'num_accts_ever_120_pd', 'num_actv_bc_tl', 'num_actv_rev_tl',\n",
       "       'num_bc_sats', 'num_bc_tl', 'num_il_tl', 'num_op_rev_tl',\n",
       "       'num_rev_accts', 'num_rev_tl_bal_gt_0', 'num_sats', 'num_tl_120dpd_2m',\n",
       "       'num_tl_30dpd', 'num_tl_90g_dpd_24m', 'num_tl_op_past_12m',\n",
       "       'pct_tl_nvr_dlq', 'percent_bc_gt_75', 'pub_rec_bankruptcies',\n",
       "       'tax_liens', 'tot_hi_cred_lim', 'total_bal_ex_mort', 'total_bc_limit'],\n",
       "      dtype='object')"
      ]
     },
     "execution_count": 41,
     "metadata": {},
     "output_type": "execute_result"
    }
   ],
   "source": [
    "cols[70:110]"
   ]
  },
  {
   "cell_type": "code",
   "execution_count": 43,
   "id": "1d64b019",
   "metadata": {},
   "outputs": [],
   "source": [
    "chargeoff_vals = data['chargeoff_within_12_mths'].value_counts()"
   ]
  },
  {
   "cell_type": "code",
   "execution_count": 46,
   "id": "c3277b2e",
   "metadata": {},
   "outputs": [
    {
     "data": {
      "text/plain": [
       "array([2243339,   15765,    1115,     186,      68,      22,      12,\n",
       "             8,       5,       2,       1], dtype=int64)"
      ]
     },
     "execution_count": 46,
     "metadata": {},
     "output_type": "execute_result"
    }
   ],
   "source": [
    "chargeoff_vals.values"
   ]
  },
  {
   "cell_type": "code",
   "execution_count": 47,
   "id": "f36b0ef5",
   "metadata": {},
   "outputs": [
    {
     "data": {
      "text/plain": [
       "11"
      ]
     },
     "execution_count": 47,
     "metadata": {},
     "output_type": "execute_result"
    }
   ],
   "source": [
    "len(data['chargeoff_within_12_mths'].value_counts())"
   ]
  },
  {
   "cell_type": "code",
   "execution_count": null,
   "id": "0b8248fe",
   "metadata": {},
   "outputs": [],
   "source": []
  },
  {
   "cell_type": "code",
   "execution_count": null,
   "id": "bb1bac6f",
   "metadata": {},
   "outputs": [],
   "source": []
  },
  {
   "cell_type": "code",
   "execution_count": null,
   "id": "4f936b2f",
   "metadata": {},
   "outputs": [],
   "source": []
  },
  {
   "cell_type": "code",
   "execution_count": null,
   "id": "3aa69cff",
   "metadata": {},
   "outputs": [],
   "source": []
  },
  {
   "cell_type": "code",
   "execution_count": null,
   "id": "b65795c3",
   "metadata": {},
   "outputs": [],
   "source": []
  },
  {
   "cell_type": "code",
   "execution_count": null,
   "id": "3c5178fc",
   "metadata": {},
   "outputs": [],
   "source": []
  },
  {
   "cell_type": "code",
   "execution_count": null,
   "id": "010214cb",
   "metadata": {},
   "outputs": [],
   "source": []
  },
  {
   "cell_type": "code",
   "execution_count": null,
   "id": "490707e0",
   "metadata": {},
   "outputs": [],
   "source": []
  }
 ],
 "metadata": {
  "kernelspec": {
   "display_name": "Python 3",
   "language": "python",
   "name": "python3"
  },
  "language_info": {
   "codemirror_mode": {
    "name": "ipython",
    "version": 3
   },
   "file_extension": ".py",
   "mimetype": "text/x-python",
   "name": "python",
   "nbconvert_exporter": "python",
   "pygments_lexer": "ipython3",
   "version": "3.8.8"
  }
 },
 "nbformat": 4,
 "nbformat_minor": 5
}
